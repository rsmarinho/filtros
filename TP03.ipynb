{
  "nbformat": 4,
  "nbformat_minor": 0,
  "metadata": {
    "colab": {
      "name": "TP03.ipynb",
      "provenance": [],
      "authorship_tag": "ABX9TyOvV14LXzdlriKc0A6uxGHq",
      "include_colab_link": true
    },
    "kernelspec": {
      "name": "python3",
      "display_name": "Python 3"
    },
    "language_info": {
      "name": "python"
    }
  },
  "cells": [
    {
      "cell_type": "markdown",
      "metadata": {
        "id": "view-in-github",
        "colab_type": "text"
      },
      "source": [
        "<a href=\"https://colab.research.google.com/github/rsmarinho/filtros/blob/main/TP03.ipynb\" target=\"_parent\"><img src=\"https://colab.research.google.com/assets/colab-badge.svg\" alt=\"Open In Colab\"/></a>"
      ]
    },
    {
      "cell_type": "markdown",
      "metadata": {
        "id": "6AsTK_1msxLe"
      },
      "source": [
        "#TP 03"
      ]
    },
    {
      "cell_type": "markdown",
      "metadata": {
        "id": "hhpnpepys7vZ"
      },
      "source": [
        "---\n",
        "###Exercícios"
      ]
    },
    {
      "cell_type": "markdown",
      "metadata": {
        "id": "e2AIYf8VtAjM"
      },
      "source": [
        "**1.** Utilizando as funções\n",
        "  \n",
        "  a) $$Z(s)=\\dfrac{(s+1)(s+5)}{s(s+3)}$$\n",
        "  b) $$Z(s)=\\dfrac{s(s^2+9)}{s^2+1}$$\n",
        "\n",
        "Responda:\n",
        "\n",
        " - Qual as caraterísticas dos filtros (a) e (b)?\n",
        "\n",
        " - Sintetize os filtros em suas formas canônicas de Foster e Cauer."
      ]
    },
    {
      "cell_type": "markdown",
      "metadata": {
        "id": "b5J5XvgyvY94"
      },
      "source": [
        "**2.** Na figura abaixo é apresentado um diagrama assintótico de um equalizador de audio que se deseja implementar com um filtro ativo RC. \n",
        "\n",
        "<img src=\"https://github.com/rsmarinho/filtros/blob/main/img/f1_q2.png?raw=true\" alt=\"Gabarito_desnromalizado\" width=\"50%\"/><img src=\"https://github.com/rsmarinho/filtros/blob/main/img/f2_q2.png?raw=true\" alt=\"Circuito\" width=\"50%\"/>\n",
        "\n",
        "Responda:\n",
        "\n",
        "  - Desenhe o gabarto do filtro de modo que o primeiro polo da função esteja normalizado em $\\omega_c=1$\n",
        "\n",
        "  - Determine a função de ganho $G(s)$ que deve ser sintetizada (você pode utilizar qualquer polinômio gerador de filtro: Butterworth, Chebyshev, ...).\n",
        "\n",
        "  - Determine as impedâncias do circuito de modo a obter a FT normalizada do filtro.\n",
        "\n",
        "  - Faça o escalamento de frequência para que a resposta do filtro se adeque à resposta original.\n",
        "\n",
        "  - Simule o filtro sintetizado e mostre o gráfico da resposta em frequência do circuito em sua simulação"
      ]
    },
    {
      "cell_type": "markdown",
      "metadata": {
        "id": "5LMPbcNt0rFO"
      },
      "source": [
        "**3.** Suponha que você foi contratado para projetar um filtro passa-faixas RC ativo. No projeto do filtro você avalia que a largura de banda do sina deve ser de $70\\,\\mbox{KHz}$ com frequência central de $f_c=450\\,\\mbox{KHz}$. A rejeição do filtro deve ser de $-40\\,\\mbox{dB/déc}$ em frequências $f<400\\,\\mbox{KHz}$ e $f>500\\,\\mbox{KHz}$. O ganho do filtro deve ser superior a $10\\,\\mbox{dB}$ na banda de passagem. Responda:\n",
        "\n",
        "  - Desenhe o gabarito do filtro para as características descritas no comando.\n",
        "  - Projete um filtro ativo RC que execute a FT descrita no gabarito do circuito.\n",
        "  - Simule o circuito e mostre o gráfico da funçõa de tranferência do circuito."
      ]
    },
    {
      "cell_type": "markdown",
      "metadata": {
        "id": "IZwmjti05UE6"
      },
      "source": [
        "<font color=\"red\">\n",
        "Nos exemplos de simulação utilize o IC TL074 no simulador.\n",
        "</font>"
      ]
    },
    {
      "cell_type": "code",
      "metadata": {
        "id": "V-7sCzhms7Jo"
      },
      "source": [
        ""
      ],
      "execution_count": null,
      "outputs": []
    }
  ]
}