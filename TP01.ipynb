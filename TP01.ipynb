{
  "nbformat": 4,
  "nbformat_minor": 0,
  "metadata": {
    "colab": {
      "name": "TP01.ipynb",
      "provenance": [],
      "collapsed_sections": [],
      "authorship_tag": "ABX9TyNozCkzejVhS2YpIUg/K45g",
      "include_colab_link": true
    },
    "kernelspec": {
      "name": "python3",
      "display_name": "Python 3"
    }
  },
  "cells": [
    {
      "cell_type": "markdown",
      "metadata": {
        "id": "view-in-github",
        "colab_type": "text"
      },
      "source": [
        "<a href=\"https://colab.research.google.com/github/rsmarinho/filtros/blob/main/TP01.ipynb\" target=\"_parent\"><img src=\"https://colab.research.google.com/assets/colab-badge.svg\" alt=\"Open In Colab\"/></a>"
      ]
    },
    {
      "cell_type": "markdown",
      "metadata": {
        "id": "AJzF1id9VTlM"
      },
      "source": [
        "#TP 01"
      ]
    },
    {
      "cell_type": "markdown",
      "metadata": {
        "id": "xELSKbs-W1rn"
      },
      "source": [
        "---\n",
        "###Exercícios"
      ]
    },
    {
      "cell_type": "markdown",
      "metadata": {
        "id": "IAk2gBtYVZXk"
      },
      "source": [
        "**1.** Você deve projetar um filtro para separar o sinal de voz do sinal [ADSL](https://en.wikipedia.org/wiki/Asymmetric_digital_subscriber_line) em uma linha de telefone fixo. Suponha que o sinal de audio é um sinal passa-baixa limitado em frequência $f_0=3200\\,Hz$ e que o espectro do sinal ADSL começa a partir de $20\\,KHz$. Uma atenuação mínima de $1\\,dB$ é tolerada para o sinal de audio, e é desejável que o sinal ADSL tenha atenuação máxima de $50\\,dB$. Qual a função de transferência para os seguintes casos:"
      ]
    },
    {
      "cell_type": "markdown",
      "metadata": {
        "id": "rPxTwkOnXGoz"
      },
      "source": [
        "####Filtro Butterworth\n",
        " * Calcule a ordem do filtro $n$\n",
        " * Traçar o gabarito para o filtro\n",
        " * Calcule a função de transferência do filtro\n",
        " * Encontre a função de transferência do filtro para a frequência $f_0$\n",
        " * Mostre o circuito $LC$ do filtro para impedâncias de fonte e de carga iguais a $R_S=R_L=50\\Omega$"
      ]
    },
    {
      "cell_type": "markdown",
      "metadata": {
        "id": "-6xySEkhX8Wq"
      },
      "source": [
        "####Filtro Chebyshev\n",
        " * Calcule a ordem do filtro $n$\n",
        " * Traçar o gabarito para o filtro\n",
        " * Calcule a função de transferência do filtro\n",
        " * Encontre a função de transferência do filtro para a frequência $f_0$\n",
        " * Mostre o circuito $LC$ do filtro para impedâncias de fonte e de carga iguais a $R_S=R_L=50\\Omega$"
      ]
    },
    {
      "cell_type": "markdown",
      "metadata": {
        "id": "IdTSpn4Qha5H"
      },
      "source": [
        "**2.** Calcule a função de ganho $G(j\\omega)$ de um filtro *Chebyshev* com as seguites características:\n",
        "\n",
        "  * $N = 2$\n",
        "  * $\\omega_s=2$\n",
        "  * $\\omega_p=1$\n",
        "  * $\\varepsilon=1$\n",
        "\n",
        "Após calcular plote os seguintes gráficos de magnitude, fase e diagrama de polos e zeros no plano-$s$."
      ]
    },
    {
      "cell_type": "markdown",
      "metadata": {
        "id": "izN7VSVFZSsV"
      },
      "source": [
        "**3.** A saída de um sinal de ultrsom é um sinal elétrico que contém um ruído $60Hz$, devido à frequência do sinal elétrico encontrado nas tomadas elétricas. Com a intensão de melhorar o sinal de ultrassom, devemos reduzir o ruído $60Hz$, para isso devemos utilizar um filtro *rejeita-faixa* à saída do gerador de sinais. O filtro deve ser construído com atenuação menor do que $19dB$ em torno de $50Hz$ com uma largura de banda de $10Hz$ ($55Hz-65Hz$). Outra característica do filtro é que nas bandas passantes laterais do filtro, a atenuação não deve ser superior à $2dB$, para frequências inferiores à $40Hz$ e superiores à $100Hz$.\n",
        "\n",
        " * Faça o traçado do gabarito do filtro\n",
        " * Faça a normalização do gabarito traçado\n",
        " * Calcule a ordem do filtro ($n$) para uma aproximação de $Butterworth$\n",
        " * Encontre a função de transferência do filtro normalizado\n",
        " * Proceda com a desnormalização da função de transferência, e calcule a função de transferência do filtro para a frequência $f_0$"
      ]
    },
    {
      "cell_type": "markdown",
      "metadata": {
        "id": "n10cHhNAiNPG"
      },
      "source": [
        "**4.** Supondo que a função de transferência de um filtro é dada por $$H(p) = \\dfrac{a_0p^2+a_1p+a_2}{b_0p^3+b_1p^2+b_2p+b_3}$$ responda:\n",
        "  \n",
        "  * Qual é o tipo de filtro em questão? (passa-altas, passa-baixas...). Justifique.\n",
        "  * Calcule o diagrama de polos e zeros, e mostre suas posições no plano-$s$. (SUGESTÃO: Utilizar forma fatorada da função de transferência)"
      ]
    },
    {
      "cell_type": "markdown",
      "metadata": {
        "id": "oHzrZ-CCjTtb"
      },
      "source": [
        "**5.** Suponha que você deve adaptar uma fonte de sinal à uma carga. No caso em questão ambos os componentes - fonte e carga - têm impedâncias complexas, a impedância de fonte é $Z_s = 17+j35 \\Omega$, e a impedânicia de carga é $Z_L = 34-j15 \\Omega$, para uma frequência de $1GHz$. \n",
        "\n",
        "  * Faça a adaptação de impedâncias utilizando uma das redes estudadas na disciplina (L-match, T-match $\\pi$-match). Encontre os valores dos componentes.\n",
        "  * Faça a simulação do circuito (xschem+ngspice)."
      ]
    },
    {
      "cell_type": "markdown",
      "metadata": {
        "id": "T_UCgu8NlCmu"
      },
      "source": [
        "**6.** A figura abaixo é o gabarito para a criação de \n",
        "\n",
        "um filtro passa-altas. \n",
        "\n",
        "![gabarito](https://github.com/rsmarinho/filtros/blob/main/img/gabarito.png?raw=true)\n",
        "\n",
        "  * Faça a normalização do gabarito para a síntese de um filtro passa-baixas.\n",
        "  * Qual a ordem de um filtro *Chebyshev* que deve ser implementado com esse gabarito?\n",
        "  * Encontre a função de Ganho $G(j\\omega)$ e de atenuação $A(j\\omega)$, ambas em $dB$ normalizadas do filtro\n",
        "  * Proceda com a desnormalização a função de transferência de um filtro passa-altas real."
      ]
    },
    {
      "cell_type": "code",
      "metadata": {
        "id": "E_PCOtI_VSzr"
      },
      "source": [
        ""
      ],
      "execution_count": null,
      "outputs": []
    }
  ]
}