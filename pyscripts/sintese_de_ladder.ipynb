{
  "nbformat": 4,
  "nbformat_minor": 0,
  "metadata": {
    "colab": {
      "name": "sintese_de_ladder.ipynb",
      "provenance": [],
      "collapsed_sections": [],
      "authorship_tag": "ABX9TyNJY1jGhd2rfAxrzl3fM3IT",
      "include_colab_link": true
    },
    "kernelspec": {
      "name": "python3",
      "display_name": "Python 3"
    },
    "language_info": {
      "name": "python"
    }
  },
  "cells": [
    {
      "cell_type": "markdown",
      "metadata": {
        "id": "view-in-github",
        "colab_type": "text"
      },
      "source": [
        "<a href=\"https://colab.research.google.com/github/rsmarinho/filtros/blob/main/pyscripts/sintese_de_ladder.ipynb\" target=\"_parent\"><img src=\"https://colab.research.google.com/assets/colab-badge.svg\" alt=\"Open In Colab\"/></a>"
      ]
    },
    {
      "cell_type": "markdown",
      "metadata": {
        "id": "nIeyCit4uoij"
      },
      "source": [
        "Utilizar com o **exemplo08.sch**"
      ]
    },
    {
      "cell_type": "code",
      "metadata": {
        "id": "rnMgWcD3pYtd"
      },
      "source": [
        "import numpy as np\n",
        "import matplotlib.pyplot as plt"
      ],
      "execution_count": null,
      "outputs": []
    },
    {
      "cell_type": "markdown",
      "metadata": {
        "id": "ugLY3JJB7XOO"
      },
      "source": [
        "Butterworth Ladder\n",
        "\n",
        "---"
      ]
    },
    {
      "cell_type": "markdown",
      "metadata": {
        "id": "05wb77-w8wzJ"
      },
      "source": [
        "$C_k = 2\\varepsilon^{(1/n)}\\cdot\\sin\\left(\\dfrac{2k-1}{2n}\\pi\\right)$, para $k$ ímpar\n",
        "\n",
        "$L_k = 2\\varepsilon^{(1/n)}\\cdot\\sin\\left(\\dfrac{2k-1}{2n}\\pi\\right)$, para $k$ par"
      ]
    },
    {
      "cell_type": "code",
      "metadata": {
        "id": "MPCxynMapcsm"
      },
      "source": [
        "N = 6\n",
        "AMAX = 1\n",
        "e = np.sqrt(10**(AMAX/10) - 1)\n",
        "\n",
        "k = np.linspace(1, N, N) # devices\n",
        "print(k)\n",
        "\n",
        "Ck = 2*e**(1/N) * np.sin( ((2*k[0::2]-1) / (2*N)) * np.pi)\n",
        "Lk = 2*e**(1/N) * np.sin( ((2*k[1::2]-1) / (2*N)) * np.pi)"
      ],
      "execution_count": null,
      "outputs": []
    },
    {
      "cell_type": "code",
      "metadata": {
        "id": "ULDpSAL4pzxY"
      },
      "source": [
        "plt.plot(k[0::2], Ck, 'b*')\n",
        "plt.plot(k[1::2], Lk, 'ro')"
      ],
      "execution_count": null,
      "outputs": []
    },
    {
      "cell_type": "code",
      "metadata": {
        "id": "kkVL9Zstavpv"
      },
      "source": [
        "print(Ck)\n",
        "print(Lk)"
      ],
      "execution_count": null,
      "outputs": []
    },
    {
      "cell_type": "markdown",
      "metadata": {
        "id": "ijFigRrG7b0d"
      },
      "source": [
        "Chebyshev Ladder\n",
        "\n",
        "---"
      ]
    },
    {
      "cell_type": "markdown",
      "metadata": {
        "id": "8ZYj_yMc9XfN"
      },
      "source": [
        "$\\varepsilon=\\left[10^{A_{MAX}/10}-1\\right]^{1/2}$\n",
        "\n",
        "$h=\\sqrt[n]{\\dfrac{1}{\\varepsilon}+\\sqrt{1+\\dfrac{1}{\\varepsilon^2}}}$\n",
        "\n",
        "$x=\\left(h-\\dfrac{1}{h}\\right)$\n",
        "\n",
        "---\n",
        "\n",
        "$C_1=\\dfrac{4\\sin(\\pi/2n)}{x}$\n",
        "\n",
        "$C_{2k-1}\\cdot L_{2k} = \\dfrac{16\\sin\\left(\\dfrac{4k-3}{2n}\\pi\\right)\\sin\\left(\\dfrac{4k-1}{2n}\\pi\\right)}{\\left(x^2+4\\sin^2\\left(\\dfrac{2k-1}{n}\\pi\\right)\\right)}$\n",
        "\n",
        "$C_{2k+1}\\cdot L_{2k} = \\dfrac{16\\sin\\left(\\dfrac{4k-1}{2n}\\pi\\right)\\sin\\left(\\dfrac{4k+1}{2n}\\pi\\right)}{\\left(x^2+4\\sin^2\\left(\\dfrac{2k}{n}\\pi\\right)\\right)}$"
      ]
    },
    {
      "cell_type": "code",
      "metadata": {
        "id": "6QJ_ekxcq1YH"
      },
      "source": [
        "N = 6\n",
        "AMAX = 1\n",
        "e = np.sqrt(10**(AMAX/10) - 1)\n",
        "\n",
        "k = np.linspace(1, N//2, N//2) # devices\n",
        "print(k)\n",
        "\n",
        "h = ( (1/e) + np.sqrt( 1 + (1/e) ) )**(1/N)\n",
        "x = h - (1/h)\n",
        "\n",
        "C1 = ( 4*np.sin( np.pi / ( 2*N ) ) ) / x"
      ],
      "execution_count": null,
      "outputs": []
    },
    {
      "cell_type": "code",
      "metadata": {
        "id": "TyXCT8g3j5KC"
      },
      "source": [
        "Lk = np.zeros(N//2)\n",
        "Ck = np.zeros(N//2)"
      ],
      "execution_count": null,
      "outputs": []
    },
    {
      "cell_type": "code",
      "metadata": {
        "id": "6z6KB9JM9vbs"
      },
      "source": [
        "C2km1L2k = ( 16*np.sin( (4*k-3) * np.pi / (2*N) )*np.sin( (4*k-1) * np.pi / (2*N) ) ) / ( x**2 + 4*np.sin(  (2*k-1) * np.pi / N  )**2 )\n",
        "C2kM1L2k = ( 16*np.sin( (4*k-1) * np.pi / (2*N) )*np.sin( (4*k+1) * np.pi / (2*N) ) ) / ( x**2 + 4*np.sin(  2*k * np.pi / N  )**2 )"
      ],
      "execution_count": null,
      "outputs": []
    },
    {
      "cell_type": "code",
      "metadata": {
        "id": "7TCG45fJ9w9e"
      },
      "source": [
        "plt.plot(C1, 'g^', ms=12)\n",
        "plt.plot(C2km1L2k, 'b*')\n",
        "plt.plot(C2kM1L2k, 'ro')"
      ],
      "execution_count": null,
      "outputs": []
    },
    {
      "cell_type": "code",
      "metadata": {
        "id": "uYmAVlG4BQjM"
      },
      "source": [
        "print(C1)\n",
        "print(C2km1L2k)\n",
        "print(C2kM1L2k)"
      ],
      "execution_count": null,
      "outputs": []
    },
    {
      "cell_type": "markdown",
      "metadata": {
        "id": "4ebICDXjlwt0"
      },
      "source": [
        "|                  |  $k=1$   |  $k=2$   |  $k=3$   |\n",
        "|------------------|:--------:|:--------:|:--------:|\n",
        "| $C_{2k-1}L_{2k}$ | $C_1L_2$ | $C_3L_4$ | $C_5L_6$ |\n",
        "| $C_{2k+1}L_{2k}$ | $C_3L_2$ | $C_5L_4$ | $C_7L_6$ |"
      ]
    },
    {
      "cell_type": "code",
      "metadata": {
        "id": "tfkkhfF3nGDL"
      },
      "source": [
        "# Ck[0] = C1\n",
        "# Lk[0] = C2km1L2k[0]/Ck[0]\n",
        "\n",
        "# Ck[1] = C2kM1L2k[0]/Lk[0]\n",
        "# Lk[1] = C2km1L2k[1]/Ck[1]\n",
        "\n",
        "# Ck[2] = C2kM1L2k[1]/Lk[1]\n",
        "# Lk[2] = C2km1L2k[2]/Ck[2]"
      ],
      "execution_count": null,
      "outputs": []
    },
    {
      "cell_type": "code",
      "metadata": {
        "id": "w7LFyfKzp4wm"
      },
      "source": [
        "Ck[0] = C1\n",
        "Lk[0] = C2km1L2k[0]/Ck[0]\n",
        "\n",
        "for i in k[:-1]:\n",
        "  Ck[int(i)] = C2kM1L2k[int(i-1)]/Lk[int(i-1)]\n",
        "  Lk[int(i)] = C2km1L2k[int(i)]/Ck[int(i)]"
      ],
      "execution_count": null,
      "outputs": []
    },
    {
      "cell_type": "code",
      "metadata": {
        "id": "_iyEaaLRptqP"
      },
      "source": [
        "plt.plot(Ck, 'b*')\n",
        "plt.plot(Lk, 'ro')"
      ],
      "execution_count": null,
      "outputs": []
    },
    {
      "cell_type": "code",
      "metadata": {
        "id": "aADhxuu1oWo_"
      },
      "source": [
        "print(Ck)\n",
        "print(Lk)"
      ],
      "execution_count": null,
      "outputs": []
    },
    {
      "cell_type": "markdown",
      "metadata": {
        "id": "xfeii4Bet0Uc"
      },
      "source": [
        "Para redes pares $k=1,2,\\cdots,n/2$ e $R_2\\neq 1$. Esse resistor pode ser determinado por \n",
        "$$\n",
        "R_2=\\dfrac{L_n}{C_1}\n",
        "$$\n",
        "Para redes ímpares $k=1,2,\\cdots,(n-1)/2$ e $R_2=1$. O último elemento $C_n$ é determinado a partir de \n",
        "$$\n",
        "C_n=C_1\n",
        "$$"
      ]
    },
    {
      "cell_type": "code",
      "metadata": {
        "id": "KjFIh0H_oYzK"
      },
      "source": [
        ""
      ],
      "execution_count": null,
      "outputs": []
    }
  ]
}