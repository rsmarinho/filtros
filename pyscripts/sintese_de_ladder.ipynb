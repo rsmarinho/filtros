{
  "nbformat": 4,
  "nbformat_minor": 0,
  "metadata": {
    "colab": {
      "name": "sintese_de_ladder.ipynb",
      "provenance": [],
      "collapsed_sections": [],
      "authorship_tag": "ABX9TyOWgBXLC4KnKrR0xL+6AmY8",
      "include_colab_link": true
    },
    "kernelspec": {
      "name": "python3",
      "display_name": "Python 3"
    },
    "language_info": {
      "name": "python"
    }
  },
  "cells": [
    {
      "cell_type": "markdown",
      "metadata": {
        "id": "view-in-github",
        "colab_type": "text"
      },
      "source": [
        "<a href=\"https://colab.research.google.com/github/rsmarinho/filtros/blob/main/pyscripts/sintese_de_ladder.ipynb\" target=\"_parent\"><img src=\"https://colab.research.google.com/assets/colab-badge.svg\" alt=\"Open In Colab\"/></a>"
      ]
    },
    {
      "cell_type": "markdown",
      "metadata": {
        "id": "nIeyCit4uoij"
      },
      "source": [
        "Utilizar com o **exemplo08.sch**"
      ]
    },
    {
      "cell_type": "code",
      "metadata": {
        "id": "rnMgWcD3pYtd"
      },
      "source": [
        "import numpy as np\n",
        "import matplotlib.pyplot as plt"
      ],
      "execution_count": 1,
      "outputs": []
    },
    {
      "cell_type": "markdown",
      "metadata": {
        "id": "ugLY3JJB7XOO"
      },
      "source": [
        "Butterworth Ladder\n",
        "\n",
        "---"
      ]
    },
    {
      "cell_type": "code",
      "metadata": {
        "id": "MPCxynMapcsm"
      },
      "source": [
        "N = 6\n",
        "e = 1\n",
        "\n",
        "k = np.linspace(1, N, N) # devices\n",
        "\n",
        "Ck = 2*e**(1/N) * np.sin( ((2*k[0::2]-1) / (2*N)) * np.pi)\n",
        "Lk = 2*e**(1/N) * np.sin( ((2*k[1::2]-1) / (2*N)) * np.pi)"
      ],
      "execution_count": 2,
      "outputs": []
    },
    {
      "cell_type": "code",
      "metadata": {
        "colab": {
          "base_uri": "https://localhost:8080/",
          "height": 286
        },
        "id": "ULDpSAL4pzxY",
        "outputId": "a9a9b544-26e4-4161-ef15-53bd7d5efcb4"
      },
      "source": [
        "plt.plot(k[0::2], Ck, 'b*')\n",
        "plt.plot(k[1::2], Lk, 'ro')"
      ],
      "execution_count": 3,
      "outputs": [
        {
          "output_type": "execute_result",
          "data": {
            "text/plain": [
              "[<matplotlib.lines.Line2D at 0x7fbd07a2f9d0>]"
            ]
          },
          "metadata": {
            "tags": []
          },
          "execution_count": 3
        },
        {
          "output_type": "display_data",
          "data": {
            "image/png": "[encoded data removed]",
            "text/plain": [
              "<Figure size 432x288 with 1 Axes>"
            ]
          },
          "metadata": {
            "tags": [],
            "needs_background": "light"
          }
        }
      ]
    },
    {
      "cell_type": "code",
      "metadata": {
        "colab": {
          "base_uri": "https://localhost:8080/"
        },
        "id": "kkVL9Zstavpv",
        "outputId": "5168bcda-e3de-44be-ff55-ced957c23b1b"
      },
      "source": [
        "print(Ck)\n",
        "print(Lk)"
      ],
      "execution_count": 4,
      "outputs": [
        {
          "output_type": "stream",
          "text": [
            "[0.51763809 1.93185165 1.41421356]\n",
            "[1.41421356 1.93185165 0.51763809]\n"
          ],
          "name": "stdout"
        }
      ]
    },
    {
      "cell_type": "markdown",
      "metadata": {
        "id": "ijFigRrG7b0d"
      },
      "source": [
        "Chebyshev Ladder\n",
        "\n",
        "---"
      ]
    },
    {
      "cell_type": "code",
      "metadata": {
        "colab": {
          "base_uri": "https://localhost:8080/"
        },
        "id": "6QJ_ekxcq1YH",
        "outputId": "99840bba-693b-4883-cd1c-3086139fd156"
      },
      "source": [
        "N = 6\n",
        "AMAX = 1\n",
        "e = np.sqrt(10**(AMAX/10) - 1)\n",
        "\n",
        "k = np.linspace(1, N//2, N//2) # devices\n",
        "print(k)\n",
        "\n",
        "h = ( (1/e) + np.sqrt( 1 + (1/e) ) )**(1/N)\n",
        "x = h - (1/h)\n",
        "\n",
        "C1 = ( 4*np.sin( np.pi / ( 2*N ) ) ) / x"
      ],
      "execution_count": 14,
      "outputs": [
        {
          "output_type": "stream",
          "text": [
            "[1. 2. 3.]\n"
          ],
          "name": "stdout"
        }
      ]
    },
    {
      "cell_type": "code",
      "metadata": {
        "id": "TyXCT8g3j5KC"
      },
      "source": [
        "Lk = np.zeros(N//2)\n",
        "Ck = np.zeros(N//2)"
      ],
      "execution_count": 15,
      "outputs": []
    },
    {
      "cell_type": "code",
      "metadata": {
        "id": "6z6KB9JM9vbs"
      },
      "source": [
        "C2km1L2k = ( 16*np.sin( (4*k-3) * np.pi / (2*N) )*np.sin( (4*k-1) * np.pi / (2*N) ) ) / ( x**2 + 4*np.sin(  (2*k-1) * np.pi / N  )**2 )\n",
        "C2kM1L2k = ( 16*np.sin( (4*k-1) * np.pi / (2*N) )*np.sin( (4*k+1) * np.pi / (2*N) ) ) / ( x**2 + 4*np.sin(  2*k * np.pi / N  )**2 )"
      ],
      "execution_count": 16,
      "outputs": []
    },
    {
      "cell_type": "code",
      "metadata": {
        "colab": {
          "base_uri": "https://localhost:8080/",
          "height": 286
        },
        "id": "7TCG45fJ9w9e",
        "outputId": "2f375fc1-d14f-41a0-e535-c81f7fd03106"
      },
      "source": [
        "plt.plot(C1, 'g^', ms=10)\n",
        "plt.plot(C2km1L2k, 'b*')\n",
        "plt.plot(C2kM1L2k, 'ro')"
      ],
      "execution_count": 17,
      "outputs": [
        {
          "output_type": "execute_result",
          "data": {
            "text/plain": [
              "[<matplotlib.lines.Line2D at 0x7fbd073bac90>]"
            ]
          },
          "metadata": {
            "tags": []
          },
          "execution_count": 17
        },
        {
          "output_type": "display_data",
          "data": {
            "image/png": "[encoded data removed]",
            "text/plain": [
              "<Figure size 432x288 with 1 Axes>"
            ]
          },
          "metadata": {
            "tags": [],
            "needs_background": "light"
          }
        }
      ]
    },
    {
      "cell_type": "code",
      "metadata": {
        "id": "uYmAVlG4BQjM",
        "colab": {
          "base_uri": "https://localhost:8080/"
        },
        "outputId": "1a3afa88-adcc-4787-c151-6679167e628e"
      },
      "source": [
        "print(C1)\n",
        "print(C2km1L2k)\n",
        "print(C2kM1L2k)"
      ],
      "execution_count": 18,
      "outputs": [
        {
          "output_type": "stream",
          "text": [
            "2.361522667849656\n",
            "[2.45615719 3.56095675 2.45615719]\n",
            "[ 3.42342002  3.42342002 -5.57678931]\n"
          ],
          "name": "stdout"
        }
      ]
    },
    {
      "cell_type": "markdown",
      "metadata": {
        "id": "4ebICDXjlwt0"
      },
      "source": [
        "|                  |  $k=1$   |  $k=2$   |  $k=2$   |\n",
        "|------------------|:--------:|:--------:|:--------:|\n",
        "| $C_{2k-1}L_{2k}$ | $C_1L_2$ | $C_3L_4$ | $C_5L_6$ |\n",
        "| $C_{2k+1}L_{2k}$ | $C_3L_2$ | $C_5L_4$ | $C_7L_6$ |"
      ]
    },
    {
      "cell_type": "code",
      "metadata": {
        "id": "tfkkhfF3nGDL"
      },
      "source": [
        "# Ck[0] = C1\n",
        "# Lk[0] = C2km1L2k[0]/Ck[0]\n",
        "\n",
        "# Ck[1] = C2kM1L2k[0]/Lk[0]\n",
        "# Lk[1] = C2km1L2k[1]/Ck[1]\n",
        "\n",
        "# Ck[2] = C2kM1L2k[1]/Lk[1]\n",
        "# Lk[2] = C2km1L2k[2]/Ck[2]"
      ],
      "execution_count": 19,
      "outputs": []
    },
    {
      "cell_type": "code",
      "metadata": {
        "id": "w7LFyfKzp4wm"
      },
      "source": [
        "Ck[0] = C1\n",
        "Lk[0] = C2km1L2k[0]/Ck[0]\n",
        "\n",
        "for i in k[:-1]:\n",
        "  Ck[int(i)] = C2kM1L2k[int(i-1)]/Lk[int(i-1)]\n",
        "  Lk[int(i)] = C2km1L2k[int(i)]/Ck[int(i)]"
      ],
      "execution_count": 20,
      "outputs": []
    },
    {
      "cell_type": "code",
      "metadata": {
        "colab": {
          "base_uri": "https://localhost:8080/",
          "height": 282
        },
        "id": "_iyEaaLRptqP",
        "outputId": "fab083f8-6532-4597-8f49-2e16add52c8f"
      },
      "source": [
        "plt.plot(Ck, 'b*')\n",
        "plt.plot(Lk, 'ro')"
      ],
      "execution_count": 21,
      "outputs": [
        {
          "output_type": "execute_result",
          "data": {
            "text/plain": [
              "[<matplotlib.lines.Line2D at 0x7fbd073365d0>]"
            ]
          },
          "metadata": {
            "tags": []
          },
          "execution_count": 21
        },
        {
          "output_type": "display_data",
          "data": {
            "image/png": "[encoded data removed]",
            "text/plain": [
              "<Figure size 432x288 with 1 Axes>"
            ]
          },
          "metadata": {
            "tags": [],
            "needs_background": "light"
          }
        }
      ]
    },
    {
      "cell_type": "code",
      "metadata": {
        "colab": {
          "base_uri": "https://localhost:8080/"
        },
        "id": "aADhxuu1oWo_",
        "outputId": "c4ed060f-ca33-4fa2-e81f-2291d5d612c6"
      },
      "source": [
        "print(Ck)\n",
        "print(Lk)"
      ],
      "execution_count": 22,
      "outputs": [
        {
          "output_type": "stream",
          "text": [
            "[2.36152267 3.29151734 3.1643873 ]\n",
            "[1.04007352 1.08185873 0.77618728]\n"
          ],
          "name": "stdout"
        }
      ]
    },
    {
      "cell_type": "markdown",
      "metadata": {
        "id": "xfeii4Bet0Uc"
      },
      "source": [
        "Para redes pares $k=1,2,\\cdots,n/2$ e $R_2\\neq 1$. Esse resistor pode ser determinado por \n",
        "$$\n",
        "R_2=\\dfrac{L_n}{C_1}\n",
        "$$\n",
        "Para redes ímpares $k=1,2,\\cdots,(n-1)/2$ e $R_2=1$. O último elemento $C_n$ é determinado a partir de \n",
        "$$\n",
        "C_n=C_1\n",
        "$$"
      ]
    },
    {
      "cell_type": "code",
      "metadata": {
        "id": "KjFIh0H_oYzK"
      },
      "source": [
        ""
      ],
      "execution_count": 22,
      "outputs": []
    }
  ]
}