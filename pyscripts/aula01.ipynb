{
  "nbformat": 4,
  "nbformat_minor": 0,
  "metadata": {
    "colab": {
      "name": "aula01.ipynb",
      "provenance": [],
      "collapsed_sections": []
    },
    "kernelspec": {
      "name": "python3",
      "display_name": "Python 3"
    }
  },
  "cells": [
    {
      "cell_type": "code",
      "metadata": {
        "id": "VwDjhkOdozv4"
      },
      "source": [
        "import numpy as np\n",
        "import matplotlib.pyplot as plt"
      ],
      "execution_count": 1,
      "outputs": []
    },
    {
      "cell_type": "code",
      "metadata": {
        "id": "JOoriJJ9o6xu"
      },
      "source": [
        "R = 1e3\n",
        "C = 1e-12\n",
        "\n",
        "w = np.linspace(100,100e6,1001)\n",
        "\n",
        "Hw = R / (1 + 1j*w*R*C)"
      ],
      "execution_count": 2,
      "outputs": []
    },
    {
      "cell_type": "code",
      "metadata": {
        "colab": {
          "base_uri": "https://localhost:8080/",
          "height": 295
        },
        "id": "Nlpms7HxpKM6",
        "outputId": "0668287b-5eb6-47ec-8af5-c0d520cd5072"
      },
      "source": [
        "fig = plt.figure()\n",
        "\n",
        "plt.subplot(211)\n",
        "plt.plot(w, np.abs(Hw))\n",
        "\n",
        "plt.subplot(212)\n",
        "plt.plot(w, np.arctan2(Hw.imag, Hw.real))"
      ],
      "execution_count": 19,
      "outputs": [
        {
          "output_type": "execute_result",
          "data": {
            "text/plain": [
              "[<matplotlib.lines.Line2D at 0x7f6a53376908>]"
            ]
          },
          "metadata": {
            "tags": []
          },
          "execution_count": 19
        },
        {
          "output_type": "display_data",
          "data": {
            "image/png": "[encoded data removed]",
            "text/plain": [
              "<Figure size 432x288 with 2 Axes>"
            ]
          },
          "metadata": {
            "tags": [],
            "needs_background": "light"
          }
        }
      ]
    },
    {
      "cell_type": "code",
      "metadata": {
        "id": "YcLvwgTCpL_y"
      },
      "source": [
        "# plt.show()\n",
        "fig.savefig('filtro01.png')"
      ],
      "execution_count": 20,
      "outputs": []
    },
    {
      "cell_type": "code",
      "metadata": {
        "id": "UrXTHeHYpvJG"
      },
      "source": [
        ""
      ],
      "execution_count": null,
      "outputs": []
    }
  ]
}