{
  "nbformat": 4,
  "nbformat_minor": 0,
  "metadata": {
    "colab": {
      "name": "adaptacao.ipynb",
      "provenance": [],
      "collapsed_sections": []
    },
    "kernelspec": {
      "name": "python3",
      "display_name": "Python 3"
    },
    "language_info": {
      "name": "python"
    }
  },
  "cells": [
    {
      "cell_type": "code",
      "metadata": {
        "id": "LvYUiyQ4VO_5"
      },
      "source": [
        "import numpy as np\n",
        "import matplotlib.pyplot as plt"
      ],
      "execution_count": 1,
      "outputs": []
    },
    {
      "cell_type": "code",
      "metadata": {
        "id": "WVo71WcUV2Kz"
      },
      "source": [
        "Q1 = 1\n",
        "f0 = 400e3\n",
        "Rs = 50\n",
        "RL = 83\n",
        "\n",
        "W0 = 2*np.pi*f0"
      ],
      "execution_count": 2,
      "outputs": []
    },
    {
      "cell_type": "code",
      "metadata": {
        "colab": {
          "base_uri": "https://localhost:8080/"
        },
        "id": "4rzTHn4YWb_O",
        "outputId": "4c0fb557-0918-4df0-e24c-2f006715f326"
      },
      "source": [
        "# para a primeira parte do circuito\n",
        "\n",
        "R1P = Rs\n",
        "R1 = R1P * (Q1**2)/(1 + Q1**2)\n",
        "print(f\"R1 : {R1}\")\n",
        "\n",
        "L21_ = R1P/(W0*Q1)\n",
        "L21  = L21_ / (1+Q1**2)\n",
        "print(f\"L21´ : {L21_}\")\n",
        "print(f\"L21  : {L21}\")\n",
        "\n",
        "C1 = 1/(W0**2 * L21_)\n",
        "print(f\"C1   : {C1}\")\n",
        "\n",
        "# test\n",
        "W0T = 1/np.sqrt(C1*L21_)\n",
        "print(f\"f0 : {W0T/(2*np.pi)}\")"
      ],
      "execution_count": 3,
      "outputs": [
        {
          "output_type": "stream",
          "text": [
            "R1 : 25.0\n",
            "L21´ : 1.989436788648692e-05\n",
            "L21  : 9.94718394324346e-06\n",
            "C1   : 7.957747154594767e-09\n",
            "f0 : 400000.00000000006\n"
          ],
          "name": "stdout"
        }
      ]
    },
    {
      "cell_type": "code",
      "metadata": {
        "colab": {
          "base_uri": "https://localhost:8080/"
        },
        "id": "lwQ8pXSlXoRK",
        "outputId": "94463c0e-6fbe-41d4-ee7c-0feee6488971"
      },
      "source": [
        "# para a segunda parte do circuito\n",
        "Q2 = np.sqrt((RL/R1)-1)\n",
        "print(f\"Q2 : {Q2}\")\n",
        "\n",
        "RL_ = R1\n",
        "print(f\"RL_ : {RL_}\")\n",
        "\n",
        "L22 = Q2*RL_/W0\n",
        "print(f\"L22   : {L22}\")\n",
        "\n",
        "C3_ = 1 / (W0**2 * L22)\n",
        "print(f\"C3´ : {C3_}\")\n",
        "\n",
        "C3 = C3_ * (Q2**2) / (1 + Q2**2)\n",
        "print(f\"C3 : {C3}\")\n"
      ],
      "execution_count": 4,
      "outputs": [
        {
          "output_type": "stream",
          "text": [
            "Q2 : 1.5231546211727816\n",
            "RL_ : 25.0\n",
            "L22   : 1.5151099190806965e-05\n",
            "C3´ : 1.0449033924694462e-08\n",
            "C3 : 7.301734549786492e-09\n"
          ],
          "name": "stdout"
        }
      ]
    },
    {
      "cell_type": "code",
      "metadata": {
        "colab": {
          "base_uri": "https://localhost:8080/"
        },
        "id": "LcPAJJZGyNdr",
        "outputId": "4a108791-bd0c-41a3-b4cb-fc776231858f"
      },
      "source": [
        "L2 = L21 + L22\n",
        "print(f\"L2 : {L2}\")"
      ],
      "execution_count": 9,
      "outputs": [
        {
          "output_type": "stream",
          "text": [
            "L2 : 2.5098283134050425e-05\n"
          ],
          "name": "stdout"
        }
      ]
    },
    {
      "cell_type": "code",
      "metadata": {
        "colab": {
          "base_uri": "https://localhost:8080/"
        },
        "id": "Yh_orktfYdJJ",
        "outputId": "540c9a9f-7aba-4ec0-ae94-232732352727"
      },
      "source": [
        "# test\n",
        "L2 = L21 + L22\n",
        "\n",
        "ZL  = ( ( RL/(1j*W0*C3) ) / ( RL + 1/(1j*W0*C3) ) )\n",
        "ZX  = 1j*W0*L2 + ZL\n",
        "Zin = ( ( ZX/(1j*W0*C1) ) / ( ZX + 1/(1j*W0*C1) ) )\n",
        "\n",
        "print(1j*W0*L22 + ZL)\n",
        "print(Zin)"
      ],
      "execution_count": 5,
      "outputs": [
        {
          "output_type": "stream",
          "text": [
            "(24.999999999999996-7.105427357601002e-15j)\n",
            "(49.999999999999986+1.3642420526593926e-14j)\n"
          ],
          "name": "stdout"
        }
      ]
    },
    {
      "cell_type": "code",
      "metadata": {
        "id": "4dXwFdRrauhe"
      },
      "source": [
        "f = np.logspace(3, 6, 1001)\n",
        "W = 2*np.pi*f\n",
        "\n",
        "ZL  = ( ( RL/(1j*W*C3) ) / ( RL + 1/(1j*W*C3) ) )\n",
        "ZX  = 1j*W*L2 + ZL\n",
        "Zin = ( ( ZX/(1j*W*C1) ) / ( ZX + 1/(1j*W*C1) ) )"
      ],
      "execution_count": 6,
      "outputs": []
    },
    {
      "cell_type": "code",
      "metadata": {
        "colab": {
          "base_uri": "https://localhost:8080/",
          "height": 273
        },
        "id": "mSsh6m8UZxIT",
        "outputId": "5d1c055b-01f5-4647-dcdf-d3ef893a814a"
      },
      "source": [
        "fig = plt.figure(figsize=(14,4))\n",
        "\n",
        "# visualização da parte real da impedância\n",
        "plt.subplot(121)\n",
        "plt.semilogx(f, Zin.real)\n",
        "plt.vlines(f0, 0, 100, \"r\")\n",
        "plt.xlim(1e3,1e6)\n",
        "plt.ylim(0,1e2)\n",
        "plt.grid(True)\n",
        "\n",
        "# visualização da parte imaginária da impedância\n",
        "plt.subplot(122)\n",
        "plt.semilogx(f, Zin.imag)\n",
        "plt.vlines(f0, -70, 70, \"r\")\n",
        "plt.xlim(1e3,1e6)\n",
        "plt.ylim(-70,70)\n",
        "plt.grid(True)"
      ],
      "execution_count": 7,
      "outputs": [
        {
          "output_type": "display_data",
          "data": {
            "image/png": "[encoded data removed]",
            "text/plain": [
              "<Figure size 1008x288 with 2 Axes>"
            ]
          },
          "metadata": {
            "tags": [],
            "needs_background": "light"
          }
        }
      ]
    },
    {
      "cell_type": "code",
      "metadata": {
        "colab": {
          "base_uri": "https://localhost:8080/",
          "height": 273
        },
        "id": "_4O9iukRarnQ",
        "outputId": "48e5f283-4e2d-4670-8938-b38c34037c69"
      },
      "source": [
        "fig = plt.figure(figsize=(6,4))\n",
        "\n",
        "plt.semilogx(f, np.abs(Zin))\n",
        "plt.vlines(f0, 0, 120, \"r\")\n",
        "plt.xlim(1e3,1e6)\n",
        "plt.ylim(0,120)\n",
        "plt.grid(True)"
      ],
      "execution_count": 8,
      "outputs": [
        {
          "output_type": "display_data",
          "data": {
            "image/png": "[encoded data removed]",
            "text/plain": [
              "<Figure size 432x288 with 1 Axes>"
            ]
          },
          "metadata": {
            "tags": [],
            "needs_background": "light"
          }
        }
      ]
    },
    {
      "cell_type": "code",
      "metadata": {
        "id": "p5CszAGFbUTP"
      },
      "source": [
        ""
      ],
      "execution_count": 8,
      "outputs": []
    }
  ]
}