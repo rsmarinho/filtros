{
  "nbformat": 4,
  "nbformat_minor": 0,
  "metadata": {
    "colab": {
      "name": "foster.ipynb",
      "provenance": [],
      "collapsed_sections": [],
      "authorship_tag": "ABX9TyMOA7zhZPL2Thn2NVXJwntN",
      "include_colab_link": true
    },
    "kernelspec": {
      "name": "python3",
      "display_name": "Python 3"
    },
    "language_info": {
      "name": "python"
    }
  },
  "cells": [
    {
      "cell_type": "markdown",
      "metadata": {
        "id": "view-in-github",
        "colab_type": "text"
      },
      "source": [
        "<a href=\"https://colab.research.google.com/github/rsmarinho/filtros/blob/main/pyscripts/foster.ipynb\" target=\"_parent\"><img src=\"https://colab.research.google.com/assets/colab-badge.svg\" alt=\"Open In Colab\"/></a>"
      ]
    },
    {
      "cell_type": "code",
      "metadata": {
        "id": "DMGtp4om2_0_"
      },
      "source": [
        "import numpy as np\n",
        "import matplotlib.pyplot as plt\n",
        "import sympy as sym"
      ],
      "execution_count": null,
      "outputs": []
    },
    {
      "cell_type": "code",
      "metadata": {
        "id": "EoWi1zA2nWZY"
      },
      "source": [
        "# sympy\n",
        "s, w, f = sym.symbols('s omega f')\n",
        "\n",
        "N = s**3 + 12*s**2 + 35*s + 24\n",
        "D = s**3 + 6*s**2 + 8*s\n",
        "\n",
        "Z = N / D\n",
        "Z"
      ],
      "execution_count": null,
      "outputs": []
    },
    {
      "cell_type": "code",
      "metadata": {
        "id": "7TH2sGNPn40S"
      },
      "source": [
        "sym.factor(Z)"
      ],
      "execution_count": null,
      "outputs": []
    },
    {
      "cell_type": "code",
      "metadata": {
        "id": "bsdZsOanoM5J"
      },
      "source": [
        "sym.apart(Z)"
      ],
      "execution_count": null,
      "outputs": []
    },
    {
      "cell_type": "code",
      "metadata": {
        "id": "4fmlcWaMVDFM"
      },
      "source": [
        "Y = 1/Z"
      ],
      "execution_count": null,
      "outputs": []
    },
    {
      "cell_type": "code",
      "metadata": {
        "id": "bVQHpfYS-_eT"
      },
      "source": [
        "sym.apart(Y/s)"
      ],
      "execution_count": null,
      "outputs": []
    },
    {
      "cell_type": "code",
      "metadata": {
        "id": "RK51uL9_Bxwr"
      },
      "source": [
        "sym.apart(Y/s)*s"
      ],
      "execution_count": null,
      "outputs": []
    },
    {
      "cell_type": "code",
      "metadata": {
        "id": "R2Kt6un5XtUB"
      },
      "source": [
        "sym.plot(sym.re(Z.subs(s, 1j*2*sym.pi*f)), sym.im(Z.subs(s, 1j*2*sym.pi*f)), (f, 1e-1, 1e3), xscale='log')"
      ],
      "execution_count": null,
      "outputs": []
    },
    {
      "cell_type": "code",
      "metadata": {
        "id": "JoBhyiW_Azl2"
      },
      "source": [
        ""
      ],
      "execution_count": null,
      "outputs": []
    }
  ]
}