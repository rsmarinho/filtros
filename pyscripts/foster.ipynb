{
  "nbformat": 4,
  "nbformat_minor": 0,
  "metadata": {
    "colab": {
      "name": "foster.ipynb",
      "provenance": [],
      "collapsed_sections": [],
      "authorship_tag": "ABX9TyMOA7zhZPL2Thn2NVXJwntN",
      "include_colab_link": true
    },
    "kernelspec": {
      "name": "python3",
      "display_name": "Python 3"
    },
    "language_info": {
      "name": "python"
    }
  },
  "cells": [
    {
      "cell_type": "markdown",
      "metadata": {
        "id": "view-in-github",
        "colab_type": "text"
      },
      "source": [
        "<a href=\"https://colab.research.google.com/github/rsmarinho/filtros/blob/main/pyscripts/foster.ipynb\" target=\"_parent\"><img src=\"https://colab.research.google.com/assets/colab-badge.svg\" alt=\"Open In Colab\"/></a>"
      ]
    },
    {
      "cell_type": "code",
      "metadata": {
        "id": "DMGtp4om2_0_"
      },
      "source": [
        "import numpy as np\n",
        "import matplotlib.pyplot as plt\n",
        "import sympy as sym"
      ],
      "execution_count": 1,
      "outputs": []
    },
    {
      "cell_type": "code",
      "metadata": {
        "colab": {
          "base_uri": "https://localhost:8080/",
          "height": 55
        },
        "id": "EoWi1zA2nWZY",
        "outputId": "51e388ce-98b3-41f8-c5b5-e15bf7738b21"
      },
      "source": [
        "# sympy\n",
        "s, w, f = sym.symbols('s omega f')\n",
        "\n",
        "N = s**3 + 12*s**2 + 35*s + 24\n",
        "D = s**3 + 6*s**2 + 8*s\n",
        "\n",
        "Z = N / D\n",
        "Z"
      ],
      "execution_count": 3,
      "outputs": [
        {
          "output_type": "execute_result",
          "data": {
            "text/latex": "$\\displaystyle \\frac{s^{3} + 12 s^{2} + 35 s + 24}{s^{3} + 6 s^{2} + 8 s}$",
            "text/plain": [
              "(s**3 + 12*s**2 + 35*s + 24)/(s**3 + 6*s**2 + 8*s)"
            ]
          },
          "metadata": {
            "tags": []
          },
          "execution_count": 3
        }
      ]
    },
    {
      "cell_type": "code",
      "metadata": {
        "colab": {
          "base_uri": "https://localhost:8080/",
          "height": 57
        },
        "id": "7TH2sGNPn40S",
        "outputId": "ffc77046-7b91-4ed7-ee64-46fb0f6578dd"
      },
      "source": [
        "sym.factor(Z)"
      ],
      "execution_count": 5,
      "outputs": [
        {
          "output_type": "execute_result",
          "data": {
            "text/latex": "$\\displaystyle \\frac{\\left(s + 1\\right) \\left(s + 3\\right) \\left(s + 8\\right)}{s \\left(s + 2\\right) \\left(s + 4\\right)}$",
            "text/plain": [
              "(s + 1)*(s + 3)*(s + 8)/(s*(s + 2)*(s + 4))"
            ]
          },
          "metadata": {
            "tags": []
          },
          "execution_count": 5
        }
      ]
    },
    {
      "cell_type": "code",
      "metadata": {
        "colab": {
          "base_uri": "https://localhost:8080/",
          "height": 55
        },
        "id": "bsdZsOanoM5J",
        "outputId": "faa29701-ecb9-4e48-e15f-8fad38897d26"
      },
      "source": [
        "sym.apart(Z)"
      ],
      "execution_count": 6,
      "outputs": [
        {
          "output_type": "execute_result",
          "data": {
            "text/latex": "$\\displaystyle 1 + \\frac{3}{2 \\left(s + 4\\right)} + \\frac{3}{2 \\left(s + 2\\right)} + \\frac{3}{s}$",
            "text/plain": [
              "1 + 3/(2*(s + 4)) + 3/(2*(s + 2)) + 3/s"
            ]
          },
          "metadata": {
            "tags": []
          },
          "execution_count": 6
        }
      ]
    },
    {
      "cell_type": "code",
      "metadata": {
        "id": "4fmlcWaMVDFM"
      },
      "source": [
        "Y = 1/Z"
      ],
      "execution_count": 7,
      "outputs": []
    },
    {
      "cell_type": "code",
      "metadata": {
        "colab": {
          "base_uri": "https://localhost:8080/",
          "height": 55
        },
        "id": "bVQHpfYS-_eT",
        "outputId": "35a3b679-31f8-424c-a724-00df76bdb744"
      },
      "source": [
        "sym.apart(Y/s)"
      ],
      "execution_count": 9,
      "outputs": [
        {
          "output_type": "execute_result",
          "data": {
            "text/latex": "$\\displaystyle \\frac{24}{35 \\left(s + 8\\right)} + \\frac{1}{10 \\left(s + 3\\right)} + \\frac{3}{14 \\left(s + 1\\right)}$",
            "text/plain": [
              "24/(35*(s + 8)) + 1/(10*(s + 3)) + 3/(14*(s + 1))"
            ]
          },
          "metadata": {
            "tags": []
          },
          "execution_count": 9
        }
      ]
    },
    {
      "cell_type": "code",
      "metadata": {
        "colab": {
          "base_uri": "https://localhost:8080/",
          "height": 58
        },
        "id": "RK51uL9_Bxwr",
        "outputId": "fa6f4ad4-8a2d-4b33-d176-636edc556319"
      },
      "source": [
        "sym.apart(Y/s)*s"
      ],
      "execution_count": 6,
      "outputs": [
        {
          "output_type": "execute_result",
          "data": {
            "text/latex": "$\\displaystyle s \\left(\\frac{24}{35 \\left(s + 8\\right)} + \\frac{1}{10 \\left(s + 3\\right)} + \\frac{3}{14 \\left(s + 1\\right)}\\right)$",
            "text/plain": [
              "s*(24/(35*(s + 8)) + 1/(10*(s + 3)) + 3/(14*(s + 1)))"
            ]
          },
          "metadata": {
            "tags": []
          },
          "execution_count": 6
        }
      ]
    },
    {
      "cell_type": "code",
      "metadata": {
        "id": "R2Kt6un5XtUB",
        "colab": {
          "base_uri": "https://localhost:8080/",
          "height": 314
        },
        "outputId": "ba37101f-9dac-46f8-e32a-ff9f2d831cfd"
      },
      "source": [
        "sym.plot(sym.re(Z.subs(s, 1j*2*sym.pi*f)), sym.im(Z.subs(s, 1j*2*sym.pi*f)), (f, 1e-1, 1e3), xscale='log')"
      ],
      "execution_count": 18,
      "outputs": [
        {
          "output_type": "display_data",
          "data": {
            "image/png": "[encoded data removed]",
            "text/plain": [
              "<Figure size 432x288 with 1 Axes>"
            ]
          },
          "metadata": {
            "tags": [],
            "needs_background": "light"
          }
        },
        {
          "output_type": "execute_result",
          "data": {
            "text/plain": [
              "<sympy.plotting.plot.Plot at 0x7f5e51133fd0>"
            ]
          },
          "metadata": {
            "tags": []
          },
          "execution_count": 18
        }
      ]
    },
    {
      "cell_type": "code",
      "metadata": {
        "id": "JoBhyiW_Azl2"
      },
      "source": [
        ""
      ],
      "execution_count": null,
      "outputs": []
    }
  ]
}