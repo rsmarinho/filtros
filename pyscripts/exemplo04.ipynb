{
  "nbformat": 4,
  "nbformat_minor": 0,
  "metadata": {
    "colab": {
      "name": "exemplo04.ipynb",
      "provenance": [],
      "collapsed_sections": []
    },
    "kernelspec": {
      "name": "python3",
      "display_name": "Python 3"
    },
    "language_info": {
      "name": "python"
    }
  },
  "cells": [
    {
      "cell_type": "code",
      "metadata": {
        "id": "htekTktCfZJa"
      },
      "source": [
        "import numpy as np\n",
        "import matplotlib.pyplot as plt"
      ],
      "execution_count": null,
      "outputs": []
    },
    {
      "cell_type": "markdown",
      "metadata": {
        "id": "fQJ7GvWREjPk"
      },
      "source": [
        "## Teorema da máxima transferência de potência\n",
        "---\n",
        "\n",
        "Para estudarmos o teorema da máxima transferência de potência, supomos a posibilidade de alteração da impedância de carga, aqui denominada *resistência de carga* ($RL$).\n",
        "\n",
        "Queremos estudar a potência entregue à carga à partir de um *modelo equivalente de Thevenin* de fonte. Para isso utilizamos a equação\n",
        "\\begin{align}\n",
        "P_L = \\dfrac{1}{2} \\cdot \\dfrac{V_{pk}^2 \\cdot R_L}{(R_s + R_L)^2 + (X_s + X_L)^2}\n",
        "\\end{align}\n",
        "\n",
        "Na equação $P_L$ é a potência de carga. Em nosso caso, assumimos que ambas impedâncias são estritamente reais. Ou seja, os termos $X_s$ e $X_L$ são iguais a zero. O que facilita nosso estudo."
      ]
    },
    {
      "cell_type": "code",
      "metadata": {
        "id": "mL59QHyyfcVb"
      },
      "source": [
        "RL_MAX = 300 # resitência de carga máxima calculada.\n",
        "\n",
        "Vpk = 1 # tensão de pico da fonte de sinal\n",
        "RL = np.linspace(0, RL_MAX, 100) # variação da resitência de carga\n",
        "Rs = 50 # resistência de fonte\n",
        "\n",
        "Vo = Vpk * RL / (Rs + RL) # cálculo da tensão entregue à carga carga\n",
        "PL = 0.5 * ((Vpk**2) * RL) / ((Rs + RL)**2) # calculo da potência entregue à carga"
      ],
      "execution_count": null,
      "outputs": []
    },
    {
      "cell_type": "code",
      "metadata": {
        "id": "xB-MajpKgwQU"
      },
      "source": [
        "fig = plt.figure(figsize=(12,4))\n",
        "\n",
        "# plot da variação da tensão entregue à carga\n",
        "# em relação à resitência de carga\n",
        "plt.subplot(121)\n",
        "plt.plot(RL,Vo)\n",
        "plt.ylim(0,Vpk)\n",
        "plt.xlim(0,RL_MAX)\n",
        "plt.grid(True)\n",
        "\n",
        "# plot da variação da potência entregue à carga\n",
        "# em relação à resitência de carga\n",
        "plt.subplot(122)\n",
        "plt.plot(RL,PL)\n",
        "plt.vlines(Rs, 0, np.max(PL)*(1.05), \"r\")\n",
        "plt.ylim(0,np.max(PL)*(1.05))\n",
        "plt.xlim(0,RL_MAX)\n",
        "plt.grid(True)"
      ],
      "execution_count": null,
      "outputs": []
    },
    {
      "cell_type": "markdown",
      "metadata": {
        "id": "Ix12A3vWQSQq"
      },
      "source": [
        "## Exemplo adaptação de impedância\n",
        "---\n",
        "\n",
        "Abaixo seguimos com o exemplo numérico do exemplo mostrado na apostila. Aqui utilizamos o notebook python para proceder com o cálculo numérico dos componentes, e posteriormente fazemos a simulação (no simulador ngspice) do circuito com os valores calculados."
      ]
    },
    {
      "cell_type": "markdown",
      "metadata": {
        "id": "r9W1wUQlQ3oO"
      },
      "source": [
        "**1.** Desejamos calcular os componentes $C$ e $L_P$ da figura 1.7a. Em nosso exemplo temos que $Z_s=50\\Omega$ e $Z_{L,P}=100\\Omega$. Suponha que a rede deva adaptar a fonte à carga em uma frequência $f=f_0=1KHz$."
      ]
    },
    {
      "cell_type": "code",
      "metadata": {
        "id": "-97q6ucRhM4S"
      },
      "source": [
        "# Iniciação das variáveis (componentes) coniecidos do circuito\n",
        "Rs = 50\n",
        "RLP = 100\n",
        "RLS = 50\n",
        "\n",
        "f0 = 1000\n",
        "W0 = 2*np.pi*f0"
      ],
      "execution_count": null,
      "outputs": []
    },
    {
      "cell_type": "markdown",
      "metadata": {
        "id": "c1HQl-MJRwvg"
      },
      "source": [
        "Queremos encontrar os valores de $C$ e $L_P$, para isso, transformamos o circuito 1.7a em um circuito que conhecemos e sabemos calcular (1.7b). Dessa maneira, podemos igualar o valor da resistência de carga $R_{L,S}$ à $R_s$. Assim, é possível calcular o fator de qualidade necessário para o circuito de adaptação, com o uso da equação\n",
        "$$\n",
        "R_{L,S} = R_{L,P} = \\dfrac{1}{1+Q^2} = 50\\Omega\n",
        "$$\n",
        "Resolvendo a equação para $Q$, temos que\n",
        "$$\n",
        "Q = \\sqrt{\\dfrac{R_{L,P}}{R_S}-1}\n",
        "$$"
      ]
    },
    {
      "cell_type": "code",
      "metadata": {
        "id": "Ul75OBlpRyaG"
      },
      "source": [
        "Q = np.sqrt((RLP/Rs)-1)\n",
        "print(Q)"
      ],
      "execution_count": null,
      "outputs": []
    },
    {
      "cell_type": "markdown",
      "metadata": {
        "id": "NMCOSxBrZRWM"
      },
      "source": [
        "E calculamos $L_S$ com a equação do fator de qualidade para o circuito ressonador em série...\n",
        "$$\n",
        "Q = \\dfrac{\\omega_0L_S}{R_{L,S}}\n",
        "$$"
      ]
    },
    {
      "cell_type": "code",
      "metadata": {
        "id": "tU-UYtBxrybf"
      },
      "source": [
        "LS = Q*RLS/W0\n",
        "print(LS)"
      ],
      "execution_count": null,
      "outputs": []
    },
    {
      "cell_type": "markdown",
      "metadata": {
        "id": "QIpIGFXEZpQO"
      },
      "source": [
        "Finalmente, calculamos o valor da capacitância utilizando a fórmula da frequência ressonante\n",
        "$$\n",
        "\\omega_0 = \\dfrac{1}{\\sqrt{LC}}\n",
        "$$"
      ]
    },
    {
      "cell_type": "code",
      "metadata": {
        "id": "S6YvmC64sQ0e"
      },
      "source": [
        "C = 1/(LS*W0**2)\n",
        "print(C)"
      ],
      "execution_count": null,
      "outputs": []
    },
    {
      "cell_type": "markdown",
      "metadata": {
        "id": "lsATh9T0aA_z"
      },
      "source": [
        "Note que ao calcularmos a frequência ressonante com a utilização dos valores de $L_S$ e $C$, vemos que $f_0=999.999Hz$. O que não é exatamente $1KHz$. Esse resultado é devido ao erro numérico referente às operações. É Normal que haja esse tipo de erro, o importante é manter esse erro \"_controlado_\"."
      ]
    },
    {
      "cell_type": "code",
      "metadata": {
        "id": "cySWLBjosUqx"
      },
      "source": [
        "W = 1/(np.sqrt(LS*C))\n",
        "print(W/(2*np.pi))"
      ],
      "execution_count": null,
      "outputs": []
    },
    {
      "cell_type": "markdown",
      "metadata": {
        "id": "fCYnSJQ4a4l0"
      },
      "source": [
        "Procedemos agora com o cálculo dos componentes do circuito \"original\" (figura 1.7a). Munido dos valores do circuito da figura 1.7b, procedemos com a transformação série-paralelo, de maneira a obter $L_S$ e $C$. Em todo caso, $C$ é o mesmo para ambos os circuitos, visto que apenas transformamos o circuito $LR$ paralelo em série.\n",
        "\n",
        "Ou seja, utilizando\n",
        "$$\n",
        "L_S = L_P\\cdot\\dfrac{Q^2}{1+Q^2}\n",
        "$$\n",
        "para $Q=1$, que é o valor calculado anteriormente no circuito mostrado. Dessa forma temos que..."
      ]
    },
    {
      "cell_type": "code",
      "metadata": {
        "id": "SyiFDDhSsuGf"
      },
      "source": [
        "LP = LS*2\n",
        "print(LP)"
      ],
      "execution_count": null,
      "outputs": []
    },
    {
      "cell_type": "markdown",
      "metadata": {
        "id": "Q7ncvzFlcASr"
      },
      "source": [
        "Ao substituir os valores de $C$ e $L_P$ no circuito original (1.7b), e procedendo com o cálculo da impedância de entrada do circuito\n",
        "$$\n",
        "Z_A = \\dfrac{1}{j\\omega_0 C}+\\dfrac{R_{L,P}\\cdot j\\omega_0 L_P}{R_{L,P} + j\\omega_0 L_P}\n",
        "$$"
      ]
    },
    {
      "cell_type": "code",
      "metadata": {
        "id": "4znGUYEcA9UR"
      },
      "source": [
        "ZA= ( 1/(1j*W0*C) ) + ( RLP*1j*W0*LP/(RLP + 1j*W0*LP) )\n",
        "print(ZA.real)\n",
        "print(ZA.imag)"
      ],
      "execution_count": null,
      "outputs": []
    },
    {
      "cell_type": "markdown",
      "metadata": {
        "id": "gXm64qmtc50P"
      },
      "source": [
        "Observe que a parte real do circuito é exatamente $Re\\{Z_A\\}=50\\Omega$, e o componente imaginário da impedância é irrisório (na ordem de $10^{-17}$), mais uma vez devemos chamar a atenção para o *erro numérico* nesse ponto."
      ]
    },
    {
      "cell_type": "markdown",
      "metadata": {
        "id": "G-ngAgeNemSV"
      },
      "source": [
        "Ademais, vejamos como fica a impedância de entrada quando variamos a frequência. O gráfico é mostrado com o eixo de frequência em escala logarítmica."
      ]
    },
    {
      "cell_type": "code",
      "metadata": {
        "id": "THcRyYtEIllS"
      },
      "source": [
        "fig = plt.figure(figsize=(12,4))\n",
        "f = np.logspace(2, 4, 1001)\n",
        "W = 2*np.pi*f\n",
        "\n",
        "Za= ( 1/(1j*W*C) ) + ( RLP*1j*W*LP/(1j*W*LP + RLP) )\n",
        "\n",
        "# visualização da parte real da impedância\n",
        "plt.subplot(121)\n",
        "plt.semilogx(f, Za.real)\n",
        "plt.xlim(1e2,1e4)\n",
        "plt.ylim(0,1e2)\n",
        "plt.grid(True)\n",
        "\n",
        "# visualização da parte imaginária da impedância\n",
        "plt.subplot(122)\n",
        "plt.semilogx(f, Za.imag)\n",
        "plt.xlim(1e2,1e4)\n",
        "plt.ylim(-500,5e1)\n",
        "plt.grid(True)"
      ],
      "execution_count": null,
      "outputs": []
    },
    {
      "cell_type": "markdown",
      "metadata": {
        "id": "O9KVGnOle_NB"
      },
      "source": [
        "<font color='red'>**Agora que você tem todas as informações sobre o circuito e o exemplo 01 da apostila, vá até o simulador e execute o arquivo \"exemplo04.sch\", em posse desse arquivo você poderá estudar outras topologias e visualizar características importantes do circuito de adaptação de impedâncias.**</font>\n",
        "\n",
        "---"
      ]
    },
    {
      "cell_type": "code",
      "metadata": {
        "id": "r9IA8vuYJCWV"
      },
      "source": [
        ""
      ],
      "execution_count": null,
      "outputs": []
    }
  ]
}