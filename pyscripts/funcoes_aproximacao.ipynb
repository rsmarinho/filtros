{
  "nbformat": 4,
  "nbformat_minor": 0,
  "metadata": {
    "colab": {
      "name": "funcoes_aproximacao.ipynb",
      "provenance": [],
      "collapsed_sections": [
        "op5h4ruKCi7F"
      ]
    },
    "kernelspec": {
      "name": "python3",
      "display_name": "Python 3"
    },
    "language_info": {
      "name": "python"
    }
  },
  "cells": [
    {
      "cell_type": "code",
      "metadata": {
        "id": "WflIVlbvBVA8"
      },
      "source": [
        "import numpy as np\n",
        "import matplotlib.pyplot as plt\n",
        "\n",
        "from numpy.polynomial import polynomial as P"
      ],
      "execution_count": null,
      "outputs": []
    },
    {
      "cell_type": "code",
      "metadata": {
        "id": "ZEVu3_WSr6ZL",
        "cellView": "form"
      },
      "source": [
        "#@title plot\n",
        "\n",
        "# import for plot\n",
        "from matplotlib import cm\n",
        "np.seterr(divide='ignore', invalid='ignore') # ignore errors\n",
        "\n",
        "db = lambda x : 10*np.log10(x) # define decibel\n",
        "\n",
        "def plot_roots(p, marker='o', img=111):\n",
        "  # fig, ax = plt.figure()\n",
        "  \n",
        "  lim = max(abs(p.r)) + 0.5\n",
        "\n",
        "  ax = fig.add_subplot(img)\n",
        "\n",
        "  # Move left y-axis and bottim x-axis to centre, passing through (0,0)\n",
        "  ax.spines['left'].set_position('center')\n",
        "  ax.spines['bottom'].set_position('center')\n",
        "\n",
        "  # Eliminate upper and right axes\n",
        "  ax.spines['right'].set_color('none')\n",
        "  ax.spines['top'].set_color('none')\n",
        "\n",
        "  # Show ticks in the left and lower axes only\n",
        "  ax.xaxis.set_ticks_position('bottom')\n",
        "  ax.yaxis.set_ticks_position('left')\n",
        "\n",
        "  ax.scatter(p.r.real, p.r.imag, marker=marker)\n",
        "  ax.set_aspect('equal', 'box')\n",
        "  ax.set_xlim(-lim, lim)\n",
        "  ax.set_ylim(-lim, lim)\n",
        "\n",
        "def plot_conf(ax, xlim=[1e-1, 1e1], ylim=[-2, 0.3e2]):\n",
        "\n",
        "  ax.set_xlim(xlim)\n",
        "  ax.set_ylim(ylim)\n",
        "  ax.grid(b=True, which='major', color='lightgray', ls='-')\n",
        "  ax.grid(b=True, which='minor', color='lightgray', ls='--')"
      ],
      "execution_count": null,
      "outputs": []
    },
    {
      "cell_type": "markdown",
      "metadata": {
        "id": "xufTGBbFEjdj"
      },
      "source": [
        "## Butterworth\n",
        "---"
      ]
    },
    {
      "cell_type": "code",
      "metadata": {
        "id": "ifepiK6T-K4a"
      },
      "source": [
        "N = 100\n",
        "W = np.logspace(-1, 1, N)\n",
        "\n",
        "# determinação do gabarito do filtro\n",
        "AMAX = 3 #3.0103\n",
        "AMIN = 40\n",
        "\n",
        "fp = 400000\n",
        "fs = 800000\n",
        "\n",
        "Wp = 2*np.pi*fp\n",
        "Ws = 2*np.pi*fs\n",
        "# Wp = 2\n",
        "# Ws = 3\n",
        "\n",
        "# calculo da atenuação máxima a partir do gabarito\n",
        "e = lambda AMAX : np.sqrt(10**(AMAX/10) - 1)\n",
        "\n",
        "print(f\"AMAX : {AMAX}\")\n",
        "print(f\"AMIN : {AMIN}\")\n",
        "print(f\"fp : {fp}\")\n",
        "print(f\"fs : {fs}\")\n",
        "print(f\"Wp : {Wp}\")\n",
        "print(f\"Ws : {Ws}\")"
      ],
      "execution_count": null,
      "outputs": []
    },
    {
      "cell_type": "code",
      "metadata": {
        "id": "1zvmBZB-DVyO"
      },
      "source": [
        "K = lambda n, Wp=Wp, e=e(AMAX), W=W : e * (W/Wp)**n"
      ],
      "execution_count": null,
      "outputs": []
    },
    {
      "cell_type": "code",
      "metadata": {
        "id": "2d5PoXiKAUn9"
      },
      "source": [
        "fig = plt.figure(figsize=(12,4))\n",
        "\n",
        "args = [Wp, e(AMAX), W]\n",
        "\n",
        "# attenuation\n",
        "A = lambda n, Wp, e, W : 10*np.log10( 1 + K(n, Wp=Wp, e=e, W=W)**2 )\n",
        "ax1 = plt.subplot(121)\n",
        "for i in range(1, 5):\n",
        "  plt.semilogx(W, A(i, *args))\n",
        "\n",
        "plot_conf(ax1, xlim=[1e-1, 1e1], ylim=[-2, 0.3e2])\n",
        "\n",
        "# gain\n",
        "G = lambda n, Wp, e, W : -A(n, Wp=Wp, e=e, W=W)\n",
        "ax2 = plt.subplot(122)\n",
        "for i in range(1, 5):\n",
        "  plt.semilogx(W, G(i, *args))\n",
        "\n",
        "plot_conf(ax2, xlim=[1e-1, 1e1], ylim=[-0.3e2, 2])"
      ],
      "execution_count": null,
      "outputs": []
    },
    {
      "cell_type": "code",
      "metadata": {
        "id": "mKFqHWD3FH4V"
      },
      "source": [
        "fig = plt.figure(figsize=(12,4))\n",
        "\n",
        "W_ = np.logspace(-1, 1, N)\n",
        "args = []\n",
        "\n",
        "# attenuation\n",
        "A = lambda n : 10*np.log10( 1 + K(n, W = (Wp * W_ / (e(AMAX)**(1/n)) ) )**2 )\n",
        "ax1 = plt.subplot(121)\n",
        "for i in range(1, 5):\n",
        "  plt.semilogx(W, A(i, *args))\n",
        "\n",
        "plot_conf(ax1, xlim=[1e-1, 1e1], ylim=[-2, 0.6e2])\n",
        "\n",
        "# gain\n",
        "G = lambda n : -A(n)\n",
        "ax2 = plt.subplot(122)\n",
        "for i in range(1, 5):\n",
        "  plt.semilogx(W, G(i, *args))\n",
        "\n",
        "plot_conf(ax2, xlim=[1e-1, 1e1], ylim=[-0.6e2, 2])"
      ],
      "execution_count": null,
      "outputs": []
    },
    {
      "cell_type": "markdown",
      "metadata": {
        "id": "5-wLDvsLDqDV"
      },
      "source": [
        "Determinação da ordem do filtro:\n",
        "$$\n",
        "n \\geq \\dfrac{\\log[(10^{\\frac{A_{MIN}}{10}}-1)/(10^{\\frac{A_{MAX}}{10}}-1)]}{2\\log(\\omega_s/\\omega_p)}\n",
        "$$"
      ]
    },
    {
      "cell_type": "code",
      "metadata": {
        "id": "p6n_3PMtAhci"
      },
      "source": [
        "n = np.log10( (10**(AMIN/10)-1) / (10**(AMAX/10)-1) ) / (2 * np.log10(Ws/Wp))\n",
        "n = int(np.ceil(n))\n",
        "# n=3\n",
        "print(f\"ordem >= {n}\")"
      ],
      "execution_count": null,
      "outputs": []
    },
    {
      "cell_type": "code",
      "metadata": {
        "id": "qcWP8PXJbfXj"
      },
      "source": [
        "fig = plt.figure(figsize=(12,4))\n",
        "\n",
        "# attenuation\n",
        "A = lambda n :  1 + K(n, W = (Wp * W_ / (e(AMAX)**(1/n)) ) )**2 \n",
        "ax1 = plt.subplot(121)\n",
        "\n",
        "plt.semilogx(W_, db(A(n)))\n",
        "plot_conf(ax1, xlim=[1e-1, 1e1], ylim=[-2, 0.6e2])\n",
        "\n",
        "# gain\n",
        "ax2 = plt.subplot(122)\n",
        "\n",
        "plt.semilogx(W_, db(1/A(n)) )\n",
        "plt.semilogx(W_, db(1/A(n-1)) )\n",
        "plt.semilogx(Wp/Wp, -AMAX, 'ro', ms=8)\n",
        "plt.semilogx(Ws/Wp, -AMIN, 'ro', ms=8)\n",
        "\n",
        "plot_conf(ax2, xlim=[1e-1, 1e1], ylim=[-0.6e2, 2])"
      ],
      "execution_count": null,
      "outputs": []
    },
    {
      "cell_type": "code",
      "metadata": {
        "id": "jwYe28rJFTBd"
      },
      "source": [
        "def K(n):\n",
        "  p = np.zeros(n + 1)\n",
        "  p[0] = 1\n",
        "  return np.poly1d(p)\n",
        "\n",
        "def H(n, e=e(AMAX)):\n",
        "  return np.poly1d( np.polyadd( e**2 * K(n)**2, [1] ) )"
      ],
      "execution_count": null,
      "outputs": []
    },
    {
      "cell_type": "code",
      "metadata": {
        "id": "dKmA-8JOqhVF"
      },
      "source": [
        "# essa função tem os zeros ao longo do circulo unitário\n",
        "# do plano-s igualmente espaçados à partir do eixo real\n",
        "# negativo\n",
        "H_bw = H(n)\n",
        "print(H_bw)"
      ],
      "execution_count": null,
      "outputs": []
    },
    {
      "cell_type": "code",
      "metadata": {
        "id": "wurr38WJq37c"
      },
      "source": [
        "# substituindo s=jW\n",
        "\n",
        "x = np.poly1d([1j, 0]) \n",
        "H2 = np.poly1d( np.polyval( H_bw, x ) )\n",
        "\n",
        "fig = plt.figure()\n",
        "plot_roots(H2)"
      ],
      "execution_count": null,
      "outputs": []
    },
    {
      "cell_type": "code",
      "metadata": {
        "id": "N3OYizxKptL6"
      },
      "source": [
        "# utilizar apenas raizes negativas (estabilidade)\n",
        "rn = np.where(H2.roots.real < 0)\n",
        "bw_filter = np.poly1d(P.polyfromroots(H2.r[rn]))\n",
        "\n",
        "fig = plt.figure()\n",
        "plot_roots(bw_filter)"
      ],
      "execution_count": null,
      "outputs": []
    },
    {
      "cell_type": "code",
      "metadata": {
        "id": "834wwZIOPqH-"
      },
      "source": [
        "np.set_printoptions(formatter={'float': lambda x: \"{0:0.4f}\".format(x)})\n",
        "\n",
        "x = np.poly1d([1j, 0]) \n",
        "p = []\n",
        "for i in range(1,9):\n",
        "  p = H(i)\n",
        "  p = np.poly1d(np.polyval(p, x))\n",
        "  rn = np.where(p.roots.real < 0)\n",
        "  bw_table = np.poly1d(P.polyfromroots(p.r[rn]))\n",
        "  print(f\"{i} : {bw_table.coef.real}\")"
      ],
      "execution_count": null,
      "outputs": []
    },
    {
      "cell_type": "code",
      "metadata": {
        "id": "-3XWHA0MpM2m"
      },
      "source": [
        "fig = plt.figure(figsize=(12,4))\n",
        "\n",
        "A = lambda w : H2(w)\n",
        "AA = lambda w : bw_filter(w)**2\n",
        "\n",
        "# attenuation\n",
        "ax1 = plt.subplot(121)\n",
        "\n",
        "plt.semilogx(W, db(A(1j*W)), '--r', lw=5)\n",
        "plt.semilogx(W, db(AA(1j*W)), 'b', lw=3)\n",
        "\n",
        "plot_conf(ax1, xlim=[1e-1, 1e1], ylim=[-2, 0.6e2])\n",
        "\n",
        "# gain\n",
        "ax2 = plt.subplot(122)\n",
        "\n",
        "plt.semilogx(W, -db(A(1j*W)), '--r', lw=5)\n",
        "plt.semilogx(W, -db(AA(1j*W)), 'b', lw=3)\n",
        "\n",
        "plot_conf(ax2, xlim=[1e-1, 1e1], ylim=[-0.6e2, 2])"
      ],
      "execution_count": null,
      "outputs": []
    },
    {
      "cell_type": "code",
      "metadata": {
        "id": "6x2mxZrBu0fU"
      },
      "source": [
        "W = np.logspace(3, 8, N)\n",
        "\n",
        "fig = plt.figure(figsize=(7,4))\n",
        "\n",
        "# gain\n",
        "ax = plt.subplot(111)\n",
        "\n",
        "plt.semilogx(W, db(1/AA(1j*W/Wp)), 'b')\n",
        "\n",
        "plt.semilogx(Wp, -AMAX, 'ro', ms=8)\n",
        "plt.semilogx(Ws, -AMIN, 'ro', ms=8)\n",
        "\n",
        "plot_conf(ax, xlim=[1e3, 1e8], ylim=[-0.6e2, 2])"
      ],
      "execution_count": null,
      "outputs": []
    },
    {
      "cell_type": "code",
      "metadata": {
        "id": "tcaQP80pvVdx"
      },
      "source": [
        "F = W/(2*np.pi)\n",
        "\n",
        "fig = plt.figure(figsize=(7,4))\n",
        "\n",
        "# gain\n",
        "ax = plt.subplot(111)\n",
        "\n",
        "plt.semilogx(F, db(1/AA(1j*W/Wp)), 'b')\n",
        "\n",
        "plt.semilogx(fp, -AMAX, 'ro', ms=8)\n",
        "plt.semilogx(fs, -AMIN, 'ro', ms=8)\n",
        "\n",
        "plot_conf(ax, xlim=[1e3, 1e8], ylim=[-0.6e2, 2])"
      ],
      "execution_count": null,
      "outputs": []
    },
    {
      "cell_type": "markdown",
      "metadata": {
        "id": "DGCjJ4qXhkGD"
      },
      "source": [
        "## Chebyshev\n",
        "---"
      ]
    },
    {
      "cell_type": "code",
      "metadata": {
        "id": "JRbFMHZ5kuH3"
      },
      "source": [
        "# %reset -f\n",
        "N = 100\n",
        "W = np.logspace(-1, 1, N)\n",
        "\n",
        "# determinação do gabarito do filtro\n",
        "AMAX = 3 #3.0103\n",
        "AMIN = 40\n",
        "\n",
        "fp = 400000\n",
        "fs = 800000\n",
        "\n",
        "Wp = 2*np.pi*fp\n",
        "Ws = 2*np.pi*fs\n",
        "# Wp = 2\n",
        "# Ws = 3\n",
        "\n",
        "# calculo da atenuação máxima a partir do gabarito\n",
        "e = lambda AMAX : np.sqrt(10**(AMAX/10) - 1)\n",
        "\n",
        "print(f\"AMAX : {AMAX}\")\n",
        "print(f\"AMIN : {AMIN}\")\n",
        "print(f\"fp : {fp}\")\n",
        "print(f\"fs : {fs}\")\n",
        "print(f\"Wp : {Wp}\")\n",
        "print(f\"Ws : {Ws}\")"
      ],
      "execution_count": null,
      "outputs": []
    },
    {
      "cell_type": "code",
      "metadata": {
        "id": "cBUpGLIOz7Ew"
      },
      "source": [
        "def TT(n,w): # First Order Chebyshev Polynomial\n",
        "  ans = np.zeros(w.shape)\n",
        "  for i, v in enumerate(w):\n",
        "    if abs(v) < 1:\n",
        "      ans[i] = np.cos(n*np.arccos(v))\n",
        "    if v >= 1:\n",
        "      ans[i] = np.cosh(n*np.arccosh(v))\n",
        "    if v <= -1:\n",
        "      ans[i] = ((-1)**n)*np.cosh(n*np.arccosh(-v))\n",
        "  return ans\n",
        "\n",
        "def UU(n,c): # Second Order Chebyshev Polynomial\n",
        "  return np.sin((n+1)*np.arccos(c))/np.sin(np.arccos(c))"
      ],
      "execution_count": null,
      "outputs": []
    },
    {
      "cell_type": "code",
      "metadata": {
        "id": "h9blb-kz0K7B"
      },
      "source": [
        "X = np.linspace(-1,1)\n",
        "fig = plt.figure(figsize=(13,4))\n",
        "\n",
        "plt.subplot(121)\n",
        "plt.grid(True)\n",
        "for i in range(1,7):\n",
        "  plt.plot(TT(i, X))\n",
        "\n",
        "plt.subplot(122)\n",
        "plt.grid(True)\n",
        "for i in range(1,7):\n",
        "  plt.plot(UU(i, X))"
      ],
      "execution_count": null,
      "outputs": []
    },
    {
      "cell_type": "code",
      "metadata": {
        "id": "xCHIx0TjiTe8"
      },
      "source": [
        "def Cn(n, W): # função geradora polinomio Chebyshev I (Função Tn)\n",
        "  ans = np.zeros(W.shape)\n",
        "  ans[np.where(W<=1)] = np.cos(n*np.arccos(W[np.where(W<=1)]))\n",
        "  ans[np.where(W>1)] = np.cosh(n*np.arccosh(W[np.where(W>1)]))\n",
        "\n",
        "  return ans\n",
        "\n",
        "def K(n, W):\n",
        "  return Cn(n, W)"
      ],
      "execution_count": null,
      "outputs": []
    },
    {
      "cell_type": "code",
      "metadata": {
        "id": "y-YLeE-Qf_-k"
      },
      "source": [
        "fig = plt.figure(figsize=(12,4))\n",
        "\n",
        "args = [W, e(AMAX)]\n",
        "\n",
        "# attenuation\n",
        "A = lambda n, W, e=e(AMAX) : 1 + e**2 * K(n, W=W)**2\n",
        "ax1 = plt.subplot(121)\n",
        "for i in range(1, 5):\n",
        "  plt.semilogx(W, db(A(i, *args)) )\n",
        "\n",
        "plot_conf(ax1, xlim=[1e-1, 1e1], ylim=[-2, 0.3e2])\n",
        "\n",
        "# gain\n",
        "ax2 = plt.subplot(122)\n",
        "for i in range(1, 5):\n",
        "  plt.semilogx(W, db(1/A(i, *args)) )\n",
        "\n",
        "plot_conf(ax2, xlim=[1e-1, 1e1], ylim=[-0.3e2, 2])"
      ],
      "execution_count": null,
      "outputs": []
    },
    {
      "cell_type": "markdown",
      "metadata": {
        "id": "n3jNsqzUsMk4"
      },
      "source": [
        "Determinação da ordem do filtro:\n",
        "$$\n",
        "n \\geq \\dfrac{\\mbox{arccosh}[(10^{\\frac{A_{MIN}}{10}}-1)/(10^{\\frac{A_{MAX}}{10}}-1)]^{\\frac{1}{2}}}{\\mbox{arccosh}log(\\omega_s/\\omega_p)}\n",
        "$$"
      ]
    },
    {
      "cell_type": "code",
      "metadata": {
        "id": "5Jc-pVSikjFP"
      },
      "source": [
        "n = np.sqrt(np.arccosh( (10**(AMIN/10)-1) / (10**(AMAX/10)-1) )) / (np.arccosh(Ws/Wp))\n",
        "n = np.ceil(n)\n",
        "# n = 4\n",
        "print(f\"ordem >= {n}\")"
      ],
      "execution_count": null,
      "outputs": []
    },
    {
      "cell_type": "code",
      "metadata": {
        "id": "xBBvgOfGvisX"
      },
      "source": [
        "import sympy as sym\n",
        "\n",
        "s = sym.symbols('s')\n",
        "sym.init_printing(use_unicode=True)"
      ],
      "execution_count": null,
      "outputs": []
    },
    {
      "cell_type": "code",
      "metadata": {
        "id": "UxdsWleOsWk6"
      },
      "source": [
        "# geração do polinômio utilizando a relação de\n",
        "def T_sym(n):\n",
        "  if n == 0 :\n",
        "    return 1\n",
        "  if n == 1 :\n",
        "    return s\n",
        "  else :\n",
        "    return sym.Poly(2*(s)*T_sym(n-1) - T_sym(n-2))\n",
        "\n",
        "def T(n):\n",
        "  return np.poly1d(sym.Poly(T_sym(n)).all_coeffs())\n",
        "\n",
        "def Cn_(n): \n",
        "  return T(n)\n",
        "\n",
        "# def Cn_(n): \n",
        "#   rn = np.where(T(n).r<0)\n",
        "#   Hn = np.poly1d(P.polyfromroots(T(n).r[rn]))\n",
        "#   return Hn\n",
        "\n",
        "def K_( n, e=e(AMAX) ):\n",
        "  ripple = float(e)\n",
        "  return ripple*Cn_(n)\n",
        "\n",
        "def H_(n, e=e(AMAX)): \n",
        "  return np.poly1d( np.polyadd( K_(n, e)**2, [1] ) )"
      ],
      "execution_count": null,
      "outputs": []
    },
    {
      "cell_type": "code",
      "metadata": {
        "id": "8ps7fnub5cfl"
      },
      "source": [
        "# from sympy.utilities.lambdify import lambdify\n",
        "\n",
        "# X = np.linspace(-1,1)\n",
        "# fig = plt.figure(figsize=(13,4))\n",
        "\n",
        "# def TT_(n):\n",
        "#   return lambdify(s, T_sym(n), 'numpy')\n",
        "\n",
        "# for i in range(1,7):\n",
        "#   plt.plot(X, TT_(i)(X))\n",
        "# plt.grid(True)"
      ],
      "execution_count": null,
      "outputs": []
    },
    {
      "cell_type": "code",
      "metadata": {
        "id": "vtwtZkTItM8Q"
      },
      "source": [
        "H_cheb1 = H_(n)\n",
        "print(H_cheb1)"
      ],
      "execution_count": null,
      "outputs": []
    },
    {
      "cell_type": "code",
      "metadata": {
        "id": "y7fqyZzgvz_c"
      },
      "source": [
        "x = np.poly1d([1j, 0]) # s=j\\omega\n",
        "cheby1_filter = np.poly1d(np.polyval(H_cheb1, x))\n",
        "print(cheby1_filter)\n",
        "\n",
        "fig = plt.figure()\n",
        "plot_roots(cheby1_filter)"
      ],
      "execution_count": null,
      "outputs": []
    },
    {
      "cell_type": "code",
      "metadata": {
        "id": "8q8FWqUtr1yf"
      },
      "source": [
        "print(n)\n",
        "A = lambda n, W, e=e(AMAX) : 1 + e**2 * K(n, W=W)**2\n",
        "\n",
        "args = [W, e(AMAX)]\n",
        "ax1 = plt.subplot(111)\n",
        "\n",
        "plt.semilogx(W, -db(A(n, *args)), '--r', lw=5)\n",
        "plt.semilogx(W, -db(np.array(cheby1_filter(1j*W), dtype=np.float)), 'b', lw=2)\n",
        "\n",
        "plot_conf(ax1, xlim=[1e-1, 1e1], ylim=[-0.3e2, 2])"
      ],
      "execution_count": null,
      "outputs": []
    },
    {
      "cell_type": "code",
      "metadata": {
        "id": "gk2mz-G4f5Ck"
      },
      "source": [
        "np.set_printoptions(formatter={'float': lambda x: \"{0:0.0f}\".format(x)})\n",
        "p = []\n",
        "x = np.poly1d([1j, 0]) # s=j\\omega\n",
        "for i in range(1,9):\n",
        "  cheby1_table = np.poly1d(np.polyval(H_(i), x))\n",
        "  print(f\"{i} : {np.array(cheby1_table.coef, dtype=float)}\")"
      ],
      "execution_count": null,
      "outputs": []
    },
    {
      "cell_type": "markdown",
      "metadata": {
        "id": "op5h4ruKCi7F"
      },
      "source": [
        "## Chebyshev Inverso\n",
        "---"
      ]
    },
    {
      "cell_type": "code",
      "metadata": {
        "id": "drc1owqa7veX"
      },
      "source": [
        "# %reset -f\n",
        "N = 100\n",
        "W = np.logspace(-1, 1, N)\n",
        "\n",
        "# determinação do gabarito do filtro\n",
        "AMAX = 3 #3.0103\n",
        "AMIN = 20\n",
        "\n",
        "fp = 400000\n",
        "fs = 800000\n",
        "\n",
        "# Wp = 2*np.pi*fp\n",
        "# Ws = 2*np.pi*fs\n",
        "Wp = 2\n",
        "Ws = 3\n",
        "\n",
        "# calculo da atenuação máxima a partir do gabarito\n",
        "e = lambda AMAX : np.sqrt(10**(AMAX/10) - 1)\n",
        "\n",
        "print(f\"AMAX : {AMAX}\")\n",
        "print(f\"AMIN : {AMIN}\")\n",
        "print(f\"fp : {fp}\")\n",
        "print(f\"fs : {fs}\")\n",
        "print(f\"Wp : {Wp}\")\n",
        "print(f\"Ws : {Ws}\")"
      ],
      "execution_count": null,
      "outputs": []
    },
    {
      "cell_type": "markdown",
      "metadata": {
        "id": "o6LtFmz1sng6"
      },
      "source": [
        "Para o filtro Chebyshev invertido, temos que\n",
        "\n",
        "$$\n",
        "K(\\omega) = \\dfrac{1}{\\sigma^2C_n^2(\\omega_s/\\omega)}\n",
        "$$\n",
        "\n",
        "Também definimos anteriormente que a função de atenuação $A(\\omega)$, é dada por\n",
        "\n",
        "$$\n",
        "A(\\omega)=10\\log[1+\\varepsilon^2K^2(\\omega)]\n",
        "$$\n",
        "$$\n",
        "A(\\omega)=10\\log[1+\\varepsilon^2\\left[\\dfrac{1}{\\sigma^2C_n^2(\\omega_s/\\omega)}\\right]^2(\\omega)]\n",
        "$$\n",
        "\n",
        "se reescrevermos $A(\\omega)$ como\n",
        "\n",
        "$$\n",
        "A(\\omega)=10\\log\\left[1+\\dfrac{1}{\\sigma^2C_n^2(\\omega_s)}\\cdot\\dfrac{C_n^2(\\omega_s)}{C_n^2(\\omega_s/\\omega)}\\right]\n",
        "$$\n",
        "\n",
        "temos que\n",
        "$$\n",
        "\\varepsilon^{'2} = \\dfrac{1}{\\sigma^2C_n^2(\\omega_s)}\n",
        "$$\n",
        "\n",
        "e\n",
        "$$\n",
        "K^{'2} = \\dfrac{C_n^2(\\omega_s)}{C_n^2(\\omega_s/\\omega)}\n",
        "$$\n",
        "\n",
        "portanto\n",
        "$$\n",
        "A(\\omega)=10\\log[1+\\varepsilon^{'2}K^{'2}(\\omega)]\n",
        "$$\n",
        "\n"
      ]
    },
    {
      "cell_type": "code",
      "metadata": {
        "id": "L40JIHnzC877"
      },
      "source": [
        "def Cn(n, W):\n",
        "  ans = np.zeros(len(W))\n",
        "  ans[np.where(W<=1)] = np.cos(n*np.arccos(W[np.where(W<=1)]))\n",
        "  ans[np.where(W>1)] = np.cosh(n*np.arccosh(W[np.where(W>1)]))\n",
        "\n",
        "  return ans\n",
        "\n",
        "def K(n, W, sigma):\n",
        "  return 1 / ( sigma * Cn(n, 1/W) ) \n",
        "\n",
        "def K_(n, W, Ws):\n",
        "  return Cn(n, np.array([Ws])) / ( Cn(n, Ws/W) ) "
      ],
      "execution_count": null,
      "outputs": []
    },
    {
      "cell_type": "code",
      "metadata": {
        "id": "im-84M_PDOEj"
      },
      "source": [
        "# AMAX = 0.001\n",
        "\n",
        "fig = plt.figure(figsize=(12,4))\n",
        "\n",
        "sig = lambda n, Ws, e=e(AMAX) : np.sqrt(1/(e*Cn(n, np.array([Ws]))))\n",
        "ss = sig(n, Ws, e(AMAX))\n",
        "print(*ss)\n",
        "args = [W, *ss]\n",
        "# args = [W, 1]\n",
        "\n",
        "# attenuation\n",
        "A = lambda n, W, sigma : 1 + K(n, W=W, sigma=sigma)**2\n",
        "Aa = lambda n, W, Ws : 1 + K_(n, W=W, Ws=Ws)**2\n",
        "ax1 = plt.subplot(121)\n",
        "for i in range(1, 5):\n",
        "  plt.semilogx(W, db(A(i, *args)) )\n",
        "  plt.semilogx(W, db(Aa(i, *args)) )\n",
        "\n",
        "plot_conf(ax1, xlim=[1e-1, 1e1], ylim=[-2, 0.3e2])\n",
        "\n",
        "# gain\n",
        "ax2 = plt.subplot(122)\n",
        "for i in range(1, 5):\n",
        "  plt.semilogx(W, -db(A(i, *args)) )\n",
        "  plt.semilogx(W, -db(Aa(i, *args)) )\n",
        "\n",
        "plot_conf(ax2, xlim=[1e-1, 1e1], ylim=[-0.3e2, 2])"
      ],
      "execution_count": null,
      "outputs": []
    },
    {
      "cell_type": "markdown",
      "metadata": {
        "id": "RPmqF8F-sCql"
      },
      "source": [
        "Determinação da ordem do filtro:\n",
        "$$\n",
        "n \\geq \\dfrac{\\mbox{arccosh}[(10^{\\frac{A_{MIN}}{10}}-1)/(10^{\\frac{A_{MAX}}{10}}-1)]^{\\frac{1}{2}}}{\\mbox{arccosh}log(\\omega_s/\\omega_p)}\n",
        "$$"
      ]
    },
    {
      "cell_type": "markdown",
      "metadata": {
        "id": "cOxdZQ-SDu2Y"
      },
      "source": [
        "## Bessel\n",
        "---"
      ]
    },
    {
      "cell_type": "markdown",
      "metadata": {
        "id": "AZgirI5GzB9J"
      },
      "source": [
        "## Cauer\n",
        "---"
      ]
    }
  ]
}