{
  "nbformat": 4,
  "nbformat_minor": 0,
  "metadata": {
    "colab": {
      "name": "TP02.ipynb",
      "provenance": [],
      "collapsed_sections": [],
      "authorship_tag": "ABX9TyOj+u/Zsq+5bYhd3TP/Vm+c",
      "include_colab_link": true
    },
    "kernelspec": {
      "name": "python3",
      "display_name": "Python 3"
    },
    "language_info": {
      "name": "python"
    }
  },
  "cells": [
    {
      "cell_type": "markdown",
      "metadata": {
        "id": "view-in-github",
        "colab_type": "text"
      },
      "source": [
        "<a href=\"https://colab.research.google.com/github/rsmarinho/filtros/blob/main/TP02.ipynb\" target=\"_parent\"><img src=\"https://colab.research.google.com/assets/colab-badge.svg\" alt=\"Open In Colab\"/></a>"
      ]
    },
    {
      "cell_type": "markdown",
      "metadata": {
        "id": "EEPpmZPQ8GqZ"
      },
      "source": [
        "#TP 02"
      ]
    },
    {
      "cell_type": "markdown",
      "metadata": {
        "id": "dNFplBKr8btQ"
      },
      "source": [
        "---\n",
        "###Exercícios"
      ]
    },
    {
      "cell_type": "markdown",
      "metadata": {
        "id": "kPDtj1TM8klZ"
      },
      "source": [
        "**1.** Calcule a função de transferência dos circuitos mostrados nas figuras abaixo.\n",
        "<img src=\"https://github.com/rsmarinho/filtros/blob/main/img/filtro_MFB_ordem2.png?raw=true\" alt=\"MFB\" width=\"50%\"/><img src=\"https://github.com/rsmarinho/filtros/blob/main/img/filtro_VCVS_ordem2.png?raw=true\" alt=\"VCVS\" width=\"50%\"/>"
      ]
    },
    {
      "cell_type": "markdown",
      "metadata": {
        "id": "U_iTsbchADzP"
      },
      "source": [
        "**2.** Os circuitos da questão **1** são filtros passa baixa de segunda ordem respectivamente classificados como filtro **MFB** (*Multiple FeedBack Filter*) e filtro **VCVS** (*Voltage Controled Voltage Source Filter*).\n",
        "\n",
        "*(a)* Utilizando seus conhecimentos, faça o projeto de um filtro **Butterworth** passa-baixas VCVS de 2a ordem. A frequência de corte do filtro é $f_c=100\\,KHz$.\n",
        "\n",
        "*(b)* Faça o projeto de um filtro **Chebyshev** passa-baixas MFB de 2a ordem, com frequência de corte $f_c=100\\,KHz$. O ganho do circuito deve ser unitário.\n",
        "\n",
        "*(c)* Após sintetizar ambos os circuitos nos itens anteriores, faça a simulação dos circuitos e mostre o a resposta em frequência dos circuitos.\n",
        "\n",
        "<font color=\"red\">\n",
        "Em ambos os casos Utilize os circuitos da questão anterior. \n",
        "</font>\n"
      ]
    },
    {
      "cell_type": "markdown",
      "metadata": {
        "id": "dw3KxTklDa2f"
      },
      "source": [
        "**3.** Ainda com base nos circuitos mostrados na questão **1**, faça:\n",
        "\n",
        "*(a)* a síntese de um filtro passa-altas **Chebyshev** **VCVS** de ordem 2. O filtro deve ter frequência de corte $f_c=400\\,KHz$. O ganho do circuito deve ser de $3\\,dB$.\n",
        "\n",
        "*(b)* a simulação dos circuitos e mostre o a resposta em frequência do circuito."
      ]
    },
    {
      "cell_type": "markdown",
      "metadata": {
        "id": "BoID8SQkKtoG"
      },
      "source": [
        "<font color=\"red\">\n",
        "Para todas as questões que envolvem simulação, utilize o IC TL074. \n",
        "</font>."
      ]
    },
    {
      "cell_type": "code",
      "metadata": {
        "id": "H64X7_W_7txx"
      },
      "source": [
        ""
      ],
      "execution_count": null,
      "outputs": []
    }
  ]
}